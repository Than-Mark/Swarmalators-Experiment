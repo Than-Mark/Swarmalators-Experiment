{
 "cells": [
  {
   "cell_type": "code",
   "execution_count": 1,
   "metadata": {},
   "outputs": [],
   "source": [
    "import matplotlib.colors as mcolors\n",
    "import matplotlib.animation as ma\n",
    "import matplotlib.pyplot as plt\n",
    "from itertools import product\n",
    "import numpy as np\n",
    "import numba as nb\n",
    "import imageio\n",
    "import shutil\n",
    "import sys\n",
    "import os\n",
    "\n",
    "if \"ipykernel_launcher.py\" in sys.argv[0]:\n",
    "    from tqdm.notebook import tqdm\n",
    "else:\n",
    "    from tqdm import tqdm\n",
    "\n",
    "randomSeed = 100\n",
    "\n",
    "%matplotlib inline\n",
    "%config InlineBackend.figure_format = \"retina\"\n",
    "\n",
    "new_cmap = mcolors.LinearSegmentedColormap.from_list(\n",
    "    \"new\", plt.cm.jet(np.linspace(0, 1, 256)) * 0.85, N=256\n",
    ")\n",
    "\n",
    "@nb.njit\n",
    "def colors_idx(phaseTheta):\n",
    "    return np.floor(256 - phaseTheta / (2 * np.pi) * 256).astype(np.int32)\n",
    "\n",
    "import seaborn as sns\n",
    "\n",
    "sns.set_theme(\n",
    "    style=\"ticks\", \n",
    "    font_scale=1.1, rc={\n",
    "    'figure.figsize': (6, 5),\n",
    "    'axes.facecolor': 'white',\n",
    "    'figure.facecolor': 'white',\n",
    "    'grid.color': '#dddddd',\n",
    "    'grid.linewidth': 0.5,\n",
    "    \"lines.linewidth\": 1.5,\n",
    "    'text.color': '#000000',\n",
    "    'figure.titleweight': \"bold\",\n",
    "    'xtick.color': '#000000',\n",
    "    'ytick.color': '#000000'\n",
    "})\n",
    "\n",
    "plt.rcParams['mathtext.fontset'] = 'cm'\n",
    "plt.rcParams['font.family'] = 'STIXGeneral'\n",
    "plt.rcParams['animation.ffmpeg_path'] = \"/opt/conda/bin/ffmpeg\"\n",
    "\n",
    "from main import *\n",
    "from multiprocessing import Pool\n",
    "import pandas as pd"
   ]
  },
  {
   "cell_type": "code",
   "execution_count": 40,
   "metadata": {},
   "outputs": [],
   "source": [
    "colors = [\"#403990\", \"#80A6E2\", \"#FBDD85\", \"#F46F43\", \"#CF3D3E\"]\n",
    "cmap = mcolors.LinearSegmentedColormap.from_list(\"my_colormap\", colors)\n",
    "class1, class2 = (\n",
    "    np.concatenate([np.ones(500), np.zeros(500)]).astype(bool), \n",
    "    np.concatenate([np.zeros(500), np.ones(500)]).astype(bool)\n",
    ")\n",
    "alphaRate = 0.9\n",
    "scale = 35\n",
    "width = 0.003\n",
    "\n",
    "def draw_mp4s(sas: List[StateAnalysis], fileName: str, mp4Path: str = \"./normalMP4\", step: int = 1, tailCounts: int = None):\n",
    "    \n",
    "    def plot_frame(i):\n",
    "        pbar.update(1)\n",
    "        fig.clear()\n",
    "        for idx in range(len(sas)):\n",
    "            ax = plt.subplot(rowNum, 3, idx + 1)\n",
    "            sa = sas[idx]\n",
    "            singlePositionX, singlePhaseTheta, _ = sa.get_state(index=i)\n",
    "            omegaTheta = sa.model.omegaTheta\n",
    "            if isinstance(sa.model, SingleDistribution):\n",
    "                ax.quiver(\n",
    "                    singlePositionX[:, 0], singlePositionX[:, 1],\n",
    "                    np.cos(singlePhaseTheta[:]), np.sin(singlePhaseTheta[:]), \n",
    "                    color=[cmap(i) for i in (omegaTheta - 1) / 2], alpha=1,\n",
    "                    scale=23, width=0.005\n",
    "                )\n",
    "            elif isinstance(sa.model, SpatialGroups):\n",
    "                ax.quiver(\n",
    "                    singlePositionX[class1, 0], singlePositionX[class1, 1],\n",
    "                    np.cos(singlePhaseTheta[class1]), np.sin(singlePhaseTheta[class1]), color='red', \n",
    "                    # alpha = (1 - alphaRate) + (np.abs(omegaTheta[class1]) - 1) / 2 * alphaRate,\n",
    "                    scale=scale, width=width\n",
    "                )\n",
    "                ax.quiver(\n",
    "                    singlePositionX[class2, 0], singlePositionX[class2, 1],\n",
    "                    np.cos(singlePhaseTheta[class2]), np.sin(singlePhaseTheta[class2]), color='#414CC7', \n",
    "                    # alpha = (1 - alphaRate) + (np.abs(omegaTheta[class2]) - 1) / 2 * alphaRate,\n",
    "                    scale=scale, width=width\n",
    "                )\n",
    "            strengthLambda = np.round(sa.model.strengthLambda, 3)\n",
    "            distanceD0 = np.round(sa.model.distanceD0, 2)\n",
    "            ax.set_title(f\"({chr(65 + idx).lower()})  $\\lambda={strengthLambda},\\ d_0={distanceD0}$\", fontweight=\"bold\")\n",
    "            ax.set_xlim(0, 10)\n",
    "            ax.set_ylim(0, 10)\n",
    "            ax.set_xticks([])\n",
    "            ax.set_yticks([])\n",
    "        plt.tight_layout()\n",
    "\n",
    "    rowNum = len(sas) // 3\n",
    "    fig, axs = plt.subplots(rowNum, 3, figsize=(10, rowNum * 4))\n",
    "    axs = axs.flatten()\n",
    "    TNum = sas[0].TNum\n",
    "    startIdx = TNum - tailCounts * step if tailCounts else 0\n",
    "    frames = np.arange(startIdx, TNum, step)\n",
    "    pbar = tqdm(total=len(frames))\n",
    "    ani = ma.FuncAnimation(fig, plot_frame, frames=frames, interval=40, repeat=False)\n",
    "    ani.save(f\"{mp4Path}/{fileName}.mp4\", dpi=200)\n",
    "    plt.close()\n",
    "    pbar.close()"
   ]
  },
  {
   "cell_type": "code",
   "execution_count": 41,
   "metadata": {},
   "outputs": [
    {
     "data": {
      "application/vnd.jupyter.widget-view+json": {
       "model_id": "2b01455d92764bb591535431ca9e259f",
       "version_major": 2,
       "version_minor": 0
      },
      "text/plain": [
       "  0%|          | 0/750 [00:00<?, ?it/s]"
      ]
     },
     "metadata": {},
     "output_type": "display_data"
    }
   ],
   "source": [
    "models = [\n",
    "    SpatialGroups(strengthLambda=0.015, distanceD0=0.25, randomSeed=10, savePath=\"./data\"),\n",
    "    SpatialGroups(strengthLambda=0.015, distanceD0=0.35, randomSeed=10, savePath=\"./data\"),\n",
    "    SpatialGroups(strengthLambda=0.015, distanceD0=0.9, randomSeed=10, savePath=\"./data\")\n",
    "]\n",
    "sas = [StateAnalysis(model) for model in models]\n",
    "draw_mp4s(sas, \"chiral_CS\", tailCounts=750, step=1)"
   ]
  },
  {
   "cell_type": "code",
   "execution_count": 42,
   "metadata": {},
   "outputs": [
    {
     "data": {
      "application/vnd.jupyter.widget-view+json": {
       "model_id": "57a71938d648456aa8f0ef86a83d6e99",
       "version_major": 2,
       "version_minor": 0
      },
      "text/plain": [
       "  0%|          | 0/750 [00:00<?, ?it/s]"
      ]
     },
     "metadata": {},
     "output_type": "display_data"
    }
   ],
   "source": [
    "models = [\n",
    "    SpatialGroups(strengthLambda=0.1, distanceD0=0.45, randomSeed=10, savePath=\"./data\"),\n",
    "    SpatialGroups(strengthLambda=0.1, distanceD0=0.75, randomSeed=10, savePath=\"./data\"),\n",
    "    SpatialGroups(strengthLambda=0.1, distanceD0=1.5, randomSeed=10, savePath=\"./data\")\n",
    "]\n",
    "sas = [StateAnalysis(model) for model in models]\n",
    "draw_mp4s(sas, \"chiral_CLS\", tailCounts=750, step=1)"
   ]
  },
  {
   "cell_type": "code",
   "execution_count": 44,
   "metadata": {},
   "outputs": [
    {
     "data": {
      "application/vnd.jupyter.widget-view+json": {
       "model_id": "1732bd41865745c382c13bf27cd89607",
       "version_major": 2,
       "version_minor": 0
      },
      "text/plain": [
       "  0%|          | 0/750 [00:00<?, ?it/s]"
      ]
     },
     "metadata": {},
     "output_type": "display_data"
    }
   ],
   "source": [
    "models = [\n",
    "    SingleDistribution(strengthLambda=0.01, distanceD0=0.35, randomSeed=10, savePath=\"./data\"),\n",
    "    SingleDistribution(strengthLambda=0.01, distanceD0=0.65, randomSeed=10, savePath=\"./data\"),\n",
    "    SingleDistribution(strengthLambda=0.01, distanceD0=1.05, randomSeed=10, savePath=\"./data\")\n",
    "]\n",
    "sas = [StateAnalysis(model) for model in models]\n",
    "draw_mp4s(sas, \"monoChiral_CS\", tailCounts=750, step=1)"
   ]
  },
  {
   "cell_type": "code",
   "execution_count": 43,
   "metadata": {},
   "outputs": [
    {
     "data": {
      "application/vnd.jupyter.widget-view+json": {
       "model_id": "d4221b7da0bd48ebbdaf650fc8c5c94e",
       "version_major": 2,
       "version_minor": 0
      },
      "text/plain": [
       "  0%|          | 0/750 [00:00<?, ?it/s]"
      ]
     },
     "metadata": {},
     "output_type": "display_data"
    }
   ],
   "source": [
    "models = [\n",
    "    SingleDistribution(strengthLambda=0.15, distanceD0=0.5, randomSeed=10, savePath=\"./data\"),\n",
    "    SingleDistribution(strengthLambda=0.15, distanceD0=0.85, randomSeed=10, savePath=\"./data\"),\n",
    "    SingleDistribution(strengthLambda=0.15, distanceD0=0.95, randomSeed=10, savePath=\"./data\")\n",
    "]\n",
    "sas = [StateAnalysis(model) for model in models]\n",
    "draw_mp4s(sas, \"monoChiral_CLS\", tailCounts=750, step=1)"
   ]
  }
 ],
 "metadata": {
  "kernelspec": {
   "display_name": "py37",
   "language": "python",
   "name": "python3"
  },
  "language_info": {
   "codemirror_mode": {
    "name": "ipython",
    "version": 3
   },
   "file_extension": ".py",
   "mimetype": "text/x-python",
   "name": "python",
   "nbconvert_exporter": "python",
   "pygments_lexer": "ipython3",
   "version": "3.7.16"
  }
 },
 "nbformat": 4,
 "nbformat_minor": 2
}
