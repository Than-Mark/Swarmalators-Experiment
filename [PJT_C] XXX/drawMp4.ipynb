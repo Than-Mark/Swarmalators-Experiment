{
 "cells": [
  {
   "cell_type": "code",
   "execution_count": 2,
   "metadata": {
    "metadata": {}
   },
   "outputs": [],
   "source": [
    "import matplotlib.colors as mcolors\n",
    "import matplotlib.animation as ma\n",
    "import matplotlib.pyplot as plt\n",
    "from itertools import product\n",
    "from typing import List\n",
    "import multiprocessing\n",
    "import pandas as pd\n",
    "import numpy as np\n",
    "import numba as nb\n",
    "import imageio\n",
    "import sys\n",
    "import os\n",
    "import shutil\n",
    "\n",
    "randomSeed = 10\n",
    "\n",
    "if \"ipykernel_launcher.py\" in sys.argv[0]:\n",
    "    from tqdm.notebook import tqdm\n",
    "else:\n",
    "    from tqdm import tqdm\n",
    "\n",
    "new_cmap = mcolors.LinearSegmentedColormap.from_list(\n",
    "    \"new\", plt.cm.jet(np.linspace(0, 1, 256)) * 0.85, N=256\n",
    ")\n",
    "\n",
    "@nb.njit\n",
    "def colors_idx(phaseTheta):\n",
    "    return np.floor(256 - phaseTheta / (2 * np.pi) * 256).astype(np.int32)\n",
    "\n",
    "import seaborn as sns\n",
    "\n",
    "sns.set_theme(font_scale=1.1, rc={\n",
    "    'figure.figsize': (6, 5),\n",
    "    'axes.facecolor': 'white',\n",
    "    'figure.facecolor': 'white',\n",
    "    'grid.color': '#dddddd',\n",
    "    'grid.linewidth': 0.5,\n",
    "    \"lines.linewidth\": 1.5,\n",
    "    'text.color': '#000000',\n",
    "    'figure.titleweight': \"bold\",\n",
    "    'xtick.color': '#000000',\n",
    "    'ytick.color': '#000000'\n",
    "})\n",
    "\n",
    "if os.path.exists(\"/opt/conda/bin/ffmpeg\"):\n",
    "    plt.rcParams['animation.ffmpeg_path'] = \"/opt/conda/bin/ffmpeg\"\n",
    "else:\n",
    "    plt.rcParams['animation.ffmpeg_path'] = \"D:/Programs/ffmpeg/bin/ffmpeg.exe\"\n",
    "\n",
    "colors = [\"#5C49AC\", \"#1F9BCE\", \"#00B5CA\", \"#BED45F\", \"#F9E03B\"]\n",
    "cmap = mcolors.LinearSegmentedColormap.from_list(\"my_colormap\", colors)\n",
    "cmap_r = mcolors.LinearSegmentedColormap.from_list(\"my_colormap\", colors[::-1])\n",
    "\n",
    "from main import *"
   ]
  },
  {
   "cell_type": "code",
   "execution_count": 3,
   "metadata": {
    "metadata": {}
   },
   "outputs": [],
   "source": [
    "sns.set_theme(font_scale=1.1, rc={\n",
    "    'figure.figsize': (6, 5),\n",
    "    'axes.facecolor': 'white',\n",
    "    'figure.facecolor': 'white',\n",
    "    'grid.color': '#dddddd',\n",
    "    'grid.linewidth': 0.5,\n",
    "    \"lines.linewidth\": 1.5,\n",
    "    'text.color': '#000000',\n",
    "    'figure.titleweight': \"bold\",\n",
    "    'xtick.color': '#000000',\n",
    "    'ytick.color': '#000000'\n",
    "})\n",
    "\n",
    "def draw_mp4(model: MobileDrive, savePath: str = \"./data\", mp4Path: str = \"./mp4\", step: int = 1, earlyStop: int = None):\n",
    "\n",
    "    targetPath = f\"{savePath}/{model}.h5\"\n",
    "    totalPositionX = pd.read_hdf(targetPath, key=\"positionX\")\n",
    "    totalPhaseTheta = pd.read_hdf(targetPath, key=\"phaseTheta\")\n",
    "    drivePosAndPhs = pd.read_hdf(targetPath, key=\"drivePosAndPhs\")\n",
    "    TNum = totalPositionX.shape[0] // model.agentsNum\n",
    "    totalPositionX = totalPositionX.values.reshape(TNum, model.agentsNum, 2)\n",
    "    totalPhaseTheta = totalPhaseTheta.values.reshape(TNum, model.agentsNum)\n",
    "    drivePosAndPhs = drivePosAndPhs.values.reshape(TNum, 3)\n",
    "    drivePositions = drivePosAndPhs[:, :2]\n",
    "    drivePhaseThetas = drivePosAndPhs[:, 2]\n",
    "    if earlyStop is not None:\n",
    "        totalPositionX = totalPositionX[:earlyStop]\n",
    "        totalPhaseTheta = totalPhaseTheta[:earlyStop]\n",
    "        TNum = earlyStop\n",
    "    maxAbsPos = np.max(np.abs(totalPositionX))\n",
    "\n",
    "    def plot_frame(i):\n",
    "        pbar.update(1)\n",
    "        positionX = totalPositionX[i]\n",
    "        phaseTheta = totalPhaseTheta[i]\n",
    "        drivePosition = drivePositions[i]\n",
    "        fig.clear()\n",
    "        fig.subplots_adjust(left=0.15, right=1, bottom=0.1, top=0.95)\n",
    "        ax1 = plt.subplot(1, 1, 1)\n",
    "        model.positionX = positionX\n",
    "        model.phaseTheta = phaseTheta\n",
    "        model.counts = i * model.shotsnaps\n",
    "        # StateAnalysis.plot_last_state(model, ax1)\n",
    "        StateAnalysis.plot_last_state(model, ax1, drivePosition=drivePosition)\n",
    "        ax1.set_xlim(-maxAbsPos, maxAbsPos)\n",
    "        ax1.set_ylim(-maxAbsPos, maxAbsPos)\n",
    "        roundBound = np.round(maxAbsPos)\n",
    "        ax1.set_xticks([-roundBound, -roundBound / 2, 0, roundBound / 2, roundBound])\n",
    "        ax1.set_yticks([-roundBound, -roundBound / 2, 0, roundBound / 2, roundBound])\n",
    "\n",
    "    frames = np.arange(0, TNum, step)\n",
    "    pbar = tqdm(total=len(frames))\n",
    "    fig, ax = plt.subplots(figsize=(5, 4))\n",
    "    ani = ma.FuncAnimation(fig, plot_frame, frames=frames, interval=50, repeat=False)\n",
    "    ani.save(f\"{mp4Path}/{model}.mp4\", dpi=100)\n",
    "    plt.close()\n",
    "\n",
    "    pbar.close()"
   ]
  },
  {
   "cell_type": "code",
   "execution_count": 3,
   "metadata": {
    "metadata": {}
   },
   "outputs": [
    {
     "data": {
      "text/plain": [
       "(0.0, 0.5172413793103449, 1.0344827586206897, 2.0689655172413794)"
      ]
     },
     "execution_count": 3,
     "metadata": {},
     "output_type": "execute_result"
    }
   ],
   "source": [
    "Fs = np.linspace(0, 5, 30)\n",
    "Ks = np.sort(np.concatenate([np.linspace(-1, 1, 30), [0]]))\n",
    "Fs[0], Fs[3], Fs[6], Fs[12]"
   ]
  },
  {
   "cell_type": "code",
   "execution_count": 31,
   "metadata": {
    "metadata": {}
   },
   "outputs": [],
   "source": [
    "model = MobileDrive(agentsNum=500, K=1, J=0.1, F=Fs[12], savePath=\"./dataForMp4\", randomSeed=10, dt=0.01, tqdm=True, overWrite=True)"
   ]
  },
  {
   "cell_type": "code",
   "execution_count": 32,
   "metadata": {
    "metadata": {}
   },
   "outputs": [
    {
     "data": {
      "application/vnd.jupyter.widget-view+json": {
       "model_id": "d04b7499af7443d29a2d07f30b1b9a0a",
       "version_major": 2,
       "version_minor": 0
      },
      "text/plain": [
       "  0%|          | 0/5000 [00:00<?, ?it/s]"
      ]
     },
     "metadata": {},
     "output_type": "display_data"
    }
   ],
   "source": [
    "model.run(5000)"
   ]
  },
  {
   "cell_type": "code",
   "execution_count": 10,
   "metadata": {},
   "outputs": [],
   "source": [
    "def run_model(model: MobileDrive):\n",
    "    model.run(5000)\n",
    "\n",
    "models = [\n",
    "    MobileDrive(agentsNum=500, K=K, J=J, F=F, savePath=\"./dataForMp4\", randomSeed=10, dt=0.01, tqdm=True)\n",
    "    for K, J, F in product([1], [0.1], [Fs[0], Fs[3], Fs[6], Fs[12]])\n",
    "]\n",
    "# with multiprocessing.Pool(4) as p:\n",
    "#     p.map(run_model, models)"
   ]
  },
  {
   "cell_type": "code",
   "execution_count": 4,
   "metadata": {},
   "outputs": [],
   "source": [
    "sns.set_theme(font_scale=1.1, rc={\n",
    "    'figure.figsize': (6, 5),\n",
    "    'axes.facecolor': 'white',\n",
    "    'figure.facecolor': 'white',\n",
    "    'grid.color': '#dddddd',\n",
    "    'grid.linewidth': 0.5,\n",
    "    \"lines.linewidth\": 1.5,\n",
    "    'text.color': '#000000',\n",
    "    'figure.titleweight': \"bold\",\n",
    "    'xtick.color': '#000000',\n",
    "    'ytick.color': '#000000'\n",
    "})\n",
    "\n",
    "def draw_mp4s(sas: List[StateAnalysis], fileName: str, mp4Path: str = \"./mp4\", step: int = 1, earlyStop: int = None):\n",
    "    if earlyStop is not None:\n",
    "        TNum = earlyStop\n",
    "    else:\n",
    "        TNum = sas[0].TNum\n",
    "    maxAbsPoses = [np.max(np.abs(sa.totalPositionX)) for sa in sas]\n",
    "\n",
    "    def plot_frame(i):\n",
    "        pbar.update(1)\n",
    "        for sa in sas:\n",
    "            sa.lookIndex = i\n",
    "        fig.clear()\n",
    "        for idx in range(len(sas)):\n",
    "            ax = plt.subplot(rowNum, 2, idx + 1)\n",
    "            sa = sas[idx]\n",
    "            sa.plot_last_state(ax=ax)\n",
    "            F, J, K = sa.model.F, sa.model.J, sa.model.K\n",
    "            FinTitle = np.round(F) if F > 0.6 else np.round(F, 1)\n",
    "            ax.set_title(f\"({chr(65 + idx).lower()})  $F={FinTitle:.1f},\\ J={J},\\ K={-0.75}$\", fontweight=\"bold\")\n",
    "            maxPos = maxAbsPoses[idx]\n",
    "            if maxPos < 1:\n",
    "                ax.set_xlim(-1, 1)\n",
    "                ax.set_ylim(-1, 1)\n",
    "                ax.set_xticks([-1, -0.5, 0, 0.5, 1])\n",
    "                ax.set_yticks([-1, -0.5, 0, 0.5, 1])\n",
    "            else:\n",
    "                bound = maxPos * 1.05\n",
    "                roundBound = np.round(bound)\n",
    "                ax.set_xlim(-bound, bound)\n",
    "                ax.set_ylim(-bound, bound)\n",
    "                ax.set_xticks([-roundBound, -roundBound / 2, 0, roundBound / 2, roundBound])\n",
    "                ax.set_yticks([-roundBound, -roundBound / 2, 0, roundBound / 2, roundBound])\n",
    "        plt.tight_layout()\n",
    "\n",
    "    rowNum = len(sas) // 2\n",
    "    fig, axs = plt.subplots(rowNum, 2, figsize=(10, rowNum * 4.2))\n",
    "    axs = axs.flatten()\n",
    "    frames = np.arange(0, TNum, step)\n",
    "    pbar = tqdm(total=len(frames))\n",
    "    ani = ma.FuncAnimation(fig, plot_frame, frames=frames, interval=50, repeat=False)\n",
    "    ani.save(f\"{mp4Path}/{fileName}.mp4\", dpi=100)\n",
    "    plt.close()\n",
    "    pbar.close()"
   ]
  },
  {
   "cell_type": "code",
   "execution_count": 34,
   "metadata": {},
   "outputs": [
    {
     "data": {
      "application/vnd.jupyter.widget-view+json": {
       "model_id": "1e75a9b0fac64ad68ad162f9f8cc9ea8",
       "version_major": 2,
       "version_minor": 0
      },
      "text/plain": [
       "  0%|          | 0/200 [00:00<?, ?it/s]"
      ]
     },
     "metadata": {},
     "output_type": "display_data"
    }
   ],
   "source": [
    "Fs = np.linspace(0, 5, 30)\n",
    "Ks = np.sort(np.concatenate([np.linspace(-1, 1, 30), [0]]))\n",
    "models = [\n",
    "    MobileDrive(agentsNum=500, K=K, J=J, F=F, savePath=\"./dataForMp4\", randomSeed=10, dt=0.01, tqdm=True)\n",
    "    for K, J, F in product([1], [0.1], [Fs[0], Fs[3], Fs[6], Fs[12]])\n",
    "]\n",
    "sas = [StateAnalysis(model) for model in models]\n",
    "\n",
    "draw_mp4s(sas, \"SS\", earlyStop=200)"
   ]
  },
  {
   "cell_type": "code",
   "execution_count": 40,
   "metadata": {},
   "outputs": [
    {
     "data": {
      "application/vnd.jupyter.widget-view+json": {
       "model_id": "ef890e9f36b442869707d1d0abb49318",
       "version_major": 2,
       "version_minor": 0
      },
      "text/plain": [
       "  0%|          | 0/200 [00:00<?, ?it/s]"
      ]
     },
     "metadata": {},
     "output_type": "display_data"
    }
   ],
   "source": [
    "Fs = np.linspace(0, 5, 30)\n",
    "Ks = np.sort(np.concatenate([np.linspace(-1, 1, 30), [0]]))\n",
    "models = [\n",
    "    MobileDrive(agentsNum=500, K=K, J=J, F=F, savePath=\"./dataForMp4\", randomSeed=10, dt=0.01, tqdm=True)\n",
    "    for K, J, F in product([-1], [0.1], [Fs[0], Fs[3], Fs[6], Fs[12], Fs[17], Fs[29]])\n",
    "]\n",
    "sas = [StateAnalysis(model) for model in models]\n",
    "\n",
    "draw_mp4s(sas, \"SA\", earlyStop=200)"
   ]
  },
  {
   "cell_type": "code",
   "execution_count": 48,
   "metadata": {},
   "outputs": [
    {
     "data": {
      "application/vnd.jupyter.widget-view+json": {
       "model_id": "094ecfd270a142faaef14cf6b2851c8e",
       "version_major": 2,
       "version_minor": 0
      },
      "text/plain": [
       "  0%|          | 0/500 [00:00<?, ?it/s]"
      ]
     },
     "metadata": {},
     "output_type": "display_data"
    }
   ],
   "source": [
    "Fs = np.linspace(0, 5, 30)\n",
    "Ks = np.sort(np.concatenate([np.linspace(-1, 1, 30), [0]]))\n",
    "models = [\n",
    "    MobileDrive(agentsNum=500, K=K, J=J, F=F, savePath=\"./dataForMp4\", randomSeed=10, dt=0.03, tqdm=True)\n",
    "    for K, J, F in product([Ks[13]], [1], [Fs[0], Fs[3], Fs[6], Fs[12]])\n",
    "]\n",
    "sas = [StateAnalysis(model) for model in models]\n",
    "\n",
    "draw_mp4s(sas, \"SPPW\", earlyStop=500)"
   ]
  },
  {
   "cell_type": "code",
   "execution_count": 50,
   "metadata": {},
   "outputs": [
    {
     "data": {
      "application/vnd.jupyter.widget-view+json": {
       "model_id": "36668e5563ec499ea6b22d3ac4a31bee",
       "version_major": 2,
       "version_minor": 0
      },
      "text/plain": [
       "  0%|          | 0/500 [00:00<?, ?it/s]"
      ]
     },
     "metadata": {},
     "output_type": "display_data"
    }
   ],
   "source": [
    "Fs = np.linspace(0, 5, 30)\n",
    "Ks = np.sort(np.concatenate([np.linspace(-1, 1, 30), [0]]))\n",
    "models = [\n",
    "    MobileDrive(agentsNum=500, K=K, J=J, F=F, savePath=\"./dataForMp4\", randomSeed=10, dt=0.01, tqdm=True)\n",
    "    for K, J, F in product([Ks[4]], [1], [Fs[0], Fs[3], Fs[6], Fs[17]])\n",
    "]\n",
    "sas = [StateAnalysis(model) for model in models]\n",
    "\n",
    "draw_mp4s(sas, \"APW\", earlyStop=None)"
   ]
  },
  {
   "cell_type": "code",
   "execution_count": 6,
   "metadata": {},
   "outputs": [
    {
     "data": {
      "application/vnd.jupyter.widget-view+json": {
       "model_id": "bdb596b8b98b4fd0915ea47c0f0ac833",
       "version_major": 2,
       "version_minor": 0
      },
      "text/plain": [
       "  0%|          | 0/500 [00:00<?, ?it/s]"
      ]
     },
     "metadata": {},
     "output_type": "display_data"
    }
   ],
   "source": [
    "Fs = np.linspace(0, 5, 30)\n",
    "Ks = np.sort(np.concatenate([np.linspace(-1, 1, 30), [0]]))\n",
    "models = [\n",
    "    MobileDrive(agentsNum=500, K=K, J=J, F=F, savePath=\"./dataForMp4\", randomSeed=10, dt=0.01, tqdm=True)\n",
    "    for K, J, F in product([0], [1], [Fs[0], 0.1, 0.2, Fs[3], Fs[6], Fs[12]])\n",
    "]\n",
    "sas = [StateAnalysis(model) for model in models]\n",
    "\n",
    "draw_mp4s(sas, \"SPW\", earlyStop=500)"
   ]
  },
  {
   "cell_type": "code",
   "execution_count": null,
   "metadata": {},
   "outputs": [],
   "source": [
    "models = [\n",
    "    MobileDrive(agentsNum=500, K=K, J=J, F=F, savePath=\"./dataForMp4\", randomSeed=10, dt=0.03, tqdm=True, overWrite=True)\n",
    "    for K, J, F in product([0], [1], [0, 0.1, 0.2, 0.3, 0.4, 0.5])\n",
    "]\n",
    "sas = [StateAnalysis(model) for model in models]\n",
    "\n",
    "draw_mp4s(sas, \"SPW_LowF\", earlyStop=None)"
   ]
  },
  {
   "cell_type": "code",
   "execution_count": 6,
   "metadata": {
    "metadata": {}
   },
   "outputs": [
    {
     "data": {
      "application/vnd.jupyter.widget-view+json": {
       "model_id": "3e736c4c12c94d8f964592ab8f8afef7",
       "version_major": 2,
       "version_minor": 0
      },
      "text/plain": [
       "  0%|          | 0/100 [00:00<?, ?it/s]"
      ]
     },
     "metadata": {},
     "output_type": "display_data"
    }
   ],
   "source": [
    "sns.set_theme(font_scale=1.1, rc={\n",
    "    'figure.figsize': (6, 5),\n",
    "    'axes.facecolor': 'white',\n",
    "    'figure.facecolor': 'white',\n",
    "    'grid.color': '#dddddd',\n",
    "    'grid.linewidth': 0.5,\n",
    "    \"lines.linewidth\": 1.5,\n",
    "    'text.color': '#000000',\n",
    "    'figure.titleweight': \"bold\",\n",
    "    'xtick.color': '#000000',\n",
    "    'ytick.color': '#000000'\n",
    "})\n",
    "\n",
    "draw_mp4(model, earlyStop=100, savePath=\"./dataForMp4\")"
   ]
  }
 ],
 "metadata": {
  "kernelspec": {
   "display_name": "py3-env",
   "language": "python",
   "name": "python3"
  },
  "language_info": {
   "codemirror_mode": {
    "name": "ipython",
    "version": 3
   },
   "file_extension": ".py",
   "mimetype": "text/x-python",
   "name": "python",
   "nbconvert_exporter": "python",
   "pygments_lexer": "ipython3",
   "version": "3.7.16"
  }
 },
 "nbformat": 4,
 "nbformat_minor": 2
}
