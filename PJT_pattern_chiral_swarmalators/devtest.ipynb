{
 "cells": [
  {
   "cell_type": "code",
   "execution_count": 76,
   "id": "623f457e-05fe-4f2f-8a0c-74b1e8cd401e",
   "metadata": {
    "vscode": {
     "languageId": "rust"
    }
   },
   "outputs": [],
   "source": [
    ":dep ndarray\n",
    ":dep once_cell\n",
    ":dep ndarray-rand\n",
    ":dep rand_isaac\n",
    "\n",
    "use ndarray::prelude::*;\n",
    "use ndarray::{concatenate, Axis};\n",
    "use once_cell::sync::Lazy;\n",
    "use ndarray_rand::RandomExt;\n",
    "use ndarray_rand::rand_distr::Uniform;\n",
    "use rand_isaac::isaac64::Isaac64Rng;\n",
    "use ndarray_rand::rand::SeedableRng;"
   ]
  },
  {
   "cell_type": "code",
   "execution_count": 70,
   "id": "78314541",
   "metadata": {
    "vscode": {
     "languageId": "rust"
    }
   },
   "outputs": [],
   "source": [
    "const L_SIZE: usize = 100;\n",
    "\n",
    "static UP_ROLL_SLC: Lazy<[usize; L_SIZE]> = Lazy::new(|| {  // left\n",
    "    let mut arr = [0_usize; L_SIZE];\n",
    "    for i in 0..L_SIZE - 1 {\n",
    "        arr[i] = i + 1;\n",
    "    }\n",
    "    arr[L_SIZE - 1] = 0;\n",
    "    arr\n",
    "});\n",
    "static DOWN_ROLL_SLC: Lazy<[usize; L_SIZE]> = Lazy::new(|| {  // right\n",
    "    let mut arr = [0_usize; L_SIZE];\n",
    "    for i in 1..L_SIZE {\n",
    "        arr[i] = i - 1;\n",
    "    }\n",
    "    arr[0] = L_SIZE - 1;\n",
    "    arr\n",
    "});\n",
    "\n",
    "enum Direction {\n",
    "    Up,\n",
    "    Down,\n",
    "    Left,\n",
    "    Right,\n",
    "}\n",
    "\n",
    "fn roll(arr: &Array<f64, Ix2>, direction: Direction) -> Array<f64, Ix2> {\n",
    "    match direction{\n",
    "        Direction::Up => {\n",
    "            concatenate![Axis(0), arr.slice(s![1.., ..]), arr.slice(s![0..1, ..])]\n",
    "        },\n",
    "        Direction::Down => {\n",
    "            concatenate![Axis(0), arr.slice(s![L_SIZE-1.., ..]), arr.slice(s![..L_SIZE-1, ..])]\n",
    "        },\n",
    "        Direction::Left => {\n",
    "            concatenate![Axis(1), arr.slice(s![.., 1..]), arr.slice(s![.., 0..1])]\n",
    "        },\n",
    "        Direction::Right => {\n",
    "            concatenate![Axis(1), arr.slice(s![.., L_SIZE-1..]), arr.slice(s![.., ..L_SIZE-1])]\n",
    "        },\n",
    "    }\n",
    "}\n",
    "\n",
    "fn nabla2C(c: &Array<f64, Ix2>) -> Array<f64, Ix2> {\n",
    "    (\n",
    "        roll(c, Direction::Up) + \n",
    "        roll(c, Direction::Down) + \n",
    "        roll(c, Direction::Left) + \n",
    "        roll(c, Direction::Right) - \n",
    "        4. * c\n",
    "    ) / 4.\n",
    "}\n",
    "\n",
    "fn cartesian_product(arr1: &Array<f64, ndarray::Ix1>, arr2: &Array<f64, ndarray::Ix1>) -> Array2<f64> {\n",
    "    let (n, m) = (arr1.len(), arr2.len());\n",
    "    let mut product = Array2::<f64>::zeros((n * m, 2));\n",
    "\n",
    "    for (i, val1) in arr1.iter().enumerate() {\n",
    "        for (j, val2) in arr2.iter().enumerate() {\n",
    "            product[[i * m + j, 0]] = *val1;\n",
    "            product[[i * m + j, 1]] = *val2;\n",
    "        }\n",
    "    }\n",
    "\n",
    "    product\n",
    "}\n",
    "\n",
    "\n",
    "#[derive(Default)]\n",
    "pub struct PatternFormationConfig {\n",
    "    positionX: Array<f64, Ix2>,\n",
    "    phaseTheta: Array<f64, Ix1>,\n",
    "    cemoU: Array<f64, Ix2>,\n",
    "    cemoV: Array<f64, Ix2>,\n",
    "    boundaryLength: f64,\n",
    "    cellNumInLine: usize,\n",
    "    cemoPositon: Array<f64, Ix3>,\n",
    "    dx: f64,\n",
    "    agentsNum: usize,\n",
    "    productRateKU: f64,\n",
    "    productRateKV: f64,\n",
    "    decayRateKd: f64,\n",
    "    feedRateKf: f64,\n",
    "    diffusionRateDU: f64,\n",
    "    diffusionRateDV: f64,\n",
    "    chemoBetaU: f64,\n",
    "    chemoBetaV: f64,\n",
    "    u0: f64,\n",
    "    v0: f64,\n",
    "    dt: f64,\n",
    "    speedV: f64,\n",
    "    couplingK: f64,\n",
    "    alpha: f64,\n",
    "}\n",
    "\n",
    "impl PatternFormation {\n",
    "    fn new(couplingK: f64, alpha: f64, u0: f64, v0: f64, dt: f64, boundaryLength: f64,\n",
    "           decayRateKd: f64, feedRateKf: f64, productRateKU: f64, productRateKV: f64,\n",
    "           diffusionRateDU: f64, diffusionRateDV: f64, chemoBetaU: f64, chemoBetaV: f64, \n",
    "           agentsNum: usize, cellNumInLine: usize, speedV: f64, randomSeed: u64) -> Self {\n",
    "        let mut rng = Isaac64Rng::seed_from_u64(randomSeed);\n",
    "        let positionX = Array::random_using((agentsNum, 2), Uniform::new(0., boundaryLength), &mut rng);\n",
    "        let phaseTheta = Array::random_using(agentsNum, Uniform::new(0., 2. * std::f64::consts::PI), &mut rng);\n",
    "        let cemoU = Array::ones((cellNumInLine, cellNumInLine)) * u0;\n",
    "        let cemoV = Array::ones((cellNumInLine, cellNumInLine)) * v0;\n",
    "        let cemoPositon = cartesian_product(\n",
    "            &Array::linspace(0., boundaryLength, cellNumInLine),\n",
    "            &Array::linspace(0., boundaryLength, cellNumInLine)\n",
    "        ).into_shape((cellNumInLine, cellNumInLine, 2)).unwrap();\n",
    "        let dx = boundaryLength / cellNumInLine as f64;\n",
    "\n",
    "        PatternFormation {\n",
    "            positionX, phaseTheta, cemoU, cemoV,\n",
    "            boundaryLength,\n",
    "            cellNumInLine,\n",
    "            cemoPositon,\n",
    "            dx,\n",
    "            agentsNum,\n",
    "            productRateKU,\n",
    "            productRateKV,\n",
    "            decayRateKd,\n",
    "            feedRateKf,\n",
    "            diffusionRateDU,\n",
    "            diffusionRateDV,\n",
    "            chemoBetaU,\n",
    "            chemoBetaV,\n",
    "            u0,\n",
    "            v0,\n",
    "            dt,\n",
    "            speedV,\n",
    "            couplingK,\n",
    "            alpha,\n",
    "        }\n",
    "    }\n",
    "}\n",
    "\n",
    "impl Default for PatternFormation {\n",
    "    fn default() -> Self {\n",
    "        PatternFormation{\n",
    "            positionX: Array::zeros((0, 0)),\n",
    "            phaseTheta: Array::zeros(0),\n",
    "            cemoU: Array::zeros((0, 0)),\n",
    "            cemoV: Array::zeros((0, 0)),\n",
    "            boundaryLength: 0.,\n",
    "            cellNumInLine: 0,\n",
    "            cemoPositon: Array::zeros((0, 0, 0)),\n",
    "            dx: 0.,\n",
    "            agentsNum: 0,\n",
    "            productRateKU: 0.,\n",
    "            productRateKV: 0.,\n",
    "            decayRateKd: 0.,\n",
    "            feedRateKf: 0.,\n",
    "            diffusionRateDU: 0.,\n",
    "            diffusionRateDV: 0.,\n",
    "            chemoBetaU: 0.,\n",
    "            chemoBetaV: 0.,\n",
    "            u0: 0.,\n",
    "            v0: 0.,\n",
    "            dt: 0.,\n",
    "            speedV: 0.,\n",
    "            couplingK: 0.,\n",
    "            alpha: 0.,\n",
    "        }\n",
    "    }\n",
    "}\n",
    "\n",
    "let c: Array<f64, Ix2> = Array::zeros((L_SIZE, L_SIZE));\n",
    "// let c: Array<f64, Ix2> = Array::from_shape_vec((3, 3), vec![1., 2., 3., 4., 5., 6., 7., 8., 9.]).unwrap();"
   ]
  },
  {
   "cell_type": "code",
   "execution_count": 100,
   "id": "c56d852a",
   "metadata": {
    "vscode": {
     "languageId": "rust"
    }
   },
   "outputs": [],
   "source": [
    "const L_SIZE: usize = 100;\n",
    "\n",
    "static UP_ROLL_SLC: Lazy<[usize; L_SIZE]> = Lazy::new(|| {  // left\n",
    "    let mut arr = [0_usize; L_SIZE];\n",
    "    for i in 0..L_SIZE - 1 {\n",
    "        arr[i] = i + 1;\n",
    "    }\n",
    "    arr[L_SIZE - 1] = 0;\n",
    "    arr\n",
    "});\n",
    "static DOWN_ROLL_SLC: Lazy<[usize; L_SIZE]> = Lazy::new(|| {  // right\n",
    "    let mut arr = [0_usize; L_SIZE];\n",
    "    for i in 1..L_SIZE {\n",
    "        arr[i] = i - 1;\n",
    "    }\n",
    "    arr[0] = L_SIZE - 1;\n",
    "    arr\n",
    "});\n",
    "\n",
    "enum Direction {\n",
    "    Up,\n",
    "    Down,\n",
    "    Left,\n",
    "    Right,\n",
    "}\n",
    "\n",
    "fn roll(arr: &Array<f64, Ix2>, direction: Direction) -> Array<f64, Ix2> {\n",
    "    match direction{\n",
    "        Direction::Up => {\n",
    "            concatenate![Axis(0), arr.slice(s![1.., ..]), arr.slice(s![0..1, ..])]\n",
    "        },\n",
    "        Direction::Down => {\n",
    "            concatenate![Axis(0), arr.slice(s![L_SIZE-1.., ..]), arr.slice(s![..L_SIZE-1, ..])]\n",
    "        },\n",
    "        Direction::Left => {\n",
    "            concatenate![Axis(1), arr.slice(s![.., 1..]), arr.slice(s![.., 0..1])]\n",
    "        },\n",
    "        Direction::Right => {\n",
    "            concatenate![Axis(1), arr.slice(s![.., L_SIZE-1..]), arr.slice(s![.., ..L_SIZE-1])]\n",
    "        },\n",
    "    }\n",
    "}\n",
    "\n",
    "fn nabla2C(c: &Array<f64, Ix2>) -> Array<f64, Ix2> {\n",
    "    (\n",
    "        roll(c, Direction::Up) + \n",
    "        roll(c, Direction::Down) + \n",
    "        roll(c, Direction::Left) + \n",
    "        roll(c, Direction::Right) - \n",
    "        4. * c\n",
    "    ) / 4.\n",
    "}\n",
    "\n",
    "fn cartesian_product(arr1: &Array<f64, ndarray::Ix1>, arr2: &Array<f64, ndarray::Ix1>) -> Array2<f64> {\n",
    "    let (n, m) = (arr1.len(), arr2.len());\n",
    "    let mut product = Array2::<f64>::zeros((n * m, 2));\n",
    "\n",
    "    for (i, val1) in arr1.iter().enumerate() {\n",
    "        for (j, val2) in arr2.iter().enumerate() {\n",
    "            product[[i * m + j, 0]] = *val1;\n",
    "            product[[i * m + j, 1]] = *val2;\n",
    "        }\n",
    "    }\n",
    "\n",
    "    product\n",
    "}\n",
    "\n",
    "\n",
    "pub struct PatternFormationConfig {\n",
    "    couplingK: f64, alpha: f64, u0: f64, v0: f64, dt: f64, boundaryLength: f64,\n",
    "    decayRateKd: f64, feedRateKf: f64, productRateKU: f64, productRateKV: f64,\n",
    "    diffusionRateDU: f64, diffusionRateDV: f64, chemoBetaU: f64, chemoBetaV: f64, \n",
    "    agentsNum: usize, cellNumInLine: usize, speedV: f64, randomSeed: u64\n",
    "}\n",
    "\n",
    "impl Default for PatternFormationConfig {\n",
    "    fn default() -> Self {\n",
    "        PatternFormationConfig{\n",
    "            couplingK: 0.,\n",
    "            alpha: 0.,\n",
    "            u0: 0.012,\n",
    "            v0: 0.012,\n",
    "            dt: 0.02,\n",
    "            boundaryLength: 10.,\n",
    "            decayRateKd: 1.,\n",
    "            feedRateKf: 1.,\n",
    "            productRateKU: 1.,\n",
    "            productRateKV: 1.,\n",
    "            diffusionRateDU: 0.01,\n",
    "            diffusionRateDV: 0.01,\n",
    "            chemoBetaU: 1.,\n",
    "            chemoBetaV: 1.,\n",
    "            agentsNum: 1000,\n",
    "            cellNumInLine: 250,\n",
    "            speedV: 3.,\n",
    "            randomSeed: 10,\n",
    "        }\n",
    "    }\n",
    "}\n",
    "impl std::fmt::Debug for PatternFormationConfig {\n",
    "    fn fmt(&self, f: &mut std::fmt::Formatter<'_>) -> std::fmt::Result {\n",
    "        f.debug_struct(\"PatternFormationConfig\")\n",
    "            .field(\"couplingK\", &self.couplingK)\n",
    "            .field(\"alpha\", &self.alpha)\n",
    "            .field(\"u0\", &self.u0)\n",
    "            .field(\"v0\", &self.v0)\n",
    "            .field(\"dt\", &self.dt)\n",
    "            .field(\"boundaryLength\", &self.boundaryLength)\n",
    "            .field(\"decayRateKd\", &self.decayRateKd)\n",
    "            .field(\"feedRateKf\", &self.feedRateKf)\n",
    "            .field(\"productRateKU\", &self.productRateKU)\n",
    "            .field(\"productRateKV\", &self.productRateKV)\n",
    "            .field(\"diffusionRateDU\", &self.diffusionRateDU)\n",
    "            .field(\"diffusionRateDV\", &self.diffusionRateDV)\n",
    "            .field(\"chemoBetaU\", &self.chemoBetaU)\n",
    "            .field(\"chemoBetaV\", &self.chemoBetaV)\n",
    "            .field(\"agentsNum\", &self.agentsNum)\n",
    "            .field(\"cellNumInLine\", &self.cellNumInLine)\n",
    "            .field(\"speedV\", &self.speedV)\n",
    "            .field(\"randomSeed\", &self.randomSeed)\n",
    "            .finish()\n",
    "    }\n",
    "}\n",
    "\n",
    "pub struct PatternFormation {\n",
    "    positionX: Array<f64, Ix2>, phaseTheta: Array<f64, Ix1>,\n",
    "    cemoU: Array<f64, Ix2>, cemoV: Array<f64, Ix2>,\n",
    "    boundaryLength: f64,\n",
    "    halfBoundaryLength: f64,\n",
    "    cellNumInLine: usize,\n",
    "    cemoPositon: Array<f64, Ix3>,\n",
    "    dx: f64,\n",
    "    agentsNum: usize,\n",
    "    productRateKU: f64,\n",
    "    productRateKV: f64,\n",
    "    decayRateKd: f64,\n",
    "    feedRateKf: f64,\n",
    "    diffusionRateDU: f64,\n",
    "    diffusionRateDV: f64,\n",
    "    chemoBetaU: f64,\n",
    "    chemoBetaV: f64,\n",
    "    u0: f64,\n",
    "    v0: f64,\n",
    "    dt: f64,\n",
    "    speedV: f64,\n",
    "    couplingK: f64,\n",
    "    alpha: f64,\n",
    "    config: PatternFormationConfig,\n",
    "}\n",
    "\n",
    "\n",
    "impl PatternFormation {\n",
    "    fn new(config: PatternFormationConfig) -> Self {\n",
    "        let mut rng = Isaac64Rng::seed_from_u64(config.randomSeed);\n",
    "        let positionX = Array::random_using(\n",
    "            (config.agentsNum, 2), \n",
    "            Uniform::new(0., config.boundaryLength), \n",
    "            &mut rng\n",
    "        );\n",
    "        let phaseTheta = Array::random_using(\n",
    "            config.agentsNum, Uniform::new(0., 2. * std::f64::consts::PI), &mut rng);\n",
    "        let cemoU = Array::ones((config.cellNumInLine, config.cellNumInLine)) * config.u0;\n",
    "        let cemoV = Array::ones((config.cellNumInLine, config.cellNumInLine)) * config.v0;\n",
    "        let cemoPositon = cartesian_product(\n",
    "            &Array::linspace(0., config.boundaryLength, config.cellNumInLine),\n",
    "            &Array::linspace(0., config.boundaryLength, config.cellNumInLine)\n",
    "        ).into_shape((config.cellNumInLine, config.cellNumInLine, 2)).unwrap();\n",
    "        let dx = config.boundaryLength / config.cellNumInLine as f64;\n",
    "        let halfBoundaryLength = config.boundaryLength / 2.;\n",
    "\n",
    "        PatternFormation {\n",
    "            positionX: positionX, \n",
    "            phaseTheta: phaseTheta, \n",
    "            cemoU: cemoU, \n",
    "            cemoV: cemoV,\n",
    "            boundaryLength: config.boundaryLength,\n",
    "            halfBoundaryLength: halfBoundaryLength,\n",
    "            cellNumInLine: config.cellNumInLine,\n",
    "            cemoPositon: cemoPositon,\n",
    "            dx: dx,\n",
    "            agentsNum: config.agentsNum,\n",
    "            productRateKU: config.productRateKU,\n",
    "            productRateKV: config.productRateKV,\n",
    "            decayRateKd: config.decayRateKd,\n",
    "            feedRateKf: config.feedRateKf,\n",
    "            diffusionRateDU: config.diffusionRateDU,\n",
    "            diffusionRateDV: config.diffusionRateDV,\n",
    "            chemoBetaU: config.chemoBetaU,\n",
    "            chemoBetaV: config.chemoBetaV,\n",
    "            u0: config.u0,\n",
    "            v0: config.v0,\n",
    "            dt: config.dt,\n",
    "            speedV: config.speedV,\n",
    "            couplingK: config.couplingK,\n",
    "            alpha: config.alpha,\n",
    "            config: config,\n",
    "        }\n",
    "    }\n",
    "}\n",
    "impl std::fmt::Debug for PatternFormation {\n",
    "    fn fmt(&self, f: &mut std::fmt::Formatter<'_>) -> std::fmt::Result {\n",
    "        f.debug_struct(\"PatternFormation on\")\n",
    "            .field(\"\", &self.config)\n",
    "            .finish()\n",
    "    }\n",
    "}\n",
    "\n",
    "\n",
    "let c: Array<f64, Ix2> = Array::zeros((L_SIZE, L_SIZE));\n",
    "// let c: Array<f64, Ix2> = Array::from_shape_vec((3, 3), vec![1., 2., 3., 4., 5., 6., 7., 8., 9.]).unwrap();"
   ]
  },
  {
   "cell_type": "code",
   "execution_count": 168,
   "id": "62dfd789",
   "metadata": {
    "vscode": {
     "languageId": "rust"
    }
   },
   "outputs": [
    {
     "data": {
      "text/plain": [
       "PatternFormation on { : PatternFormationConfig { couplingK: 0.0, alpha: 0.0, u0: 0.012, v0: 0.012, dt: 0.02, boundaryLength: 10.0, decayRateKd: 1.0, feedRateKf: 1.0, productRateKU: 1.0, productRateKV: 1.0, diffusionRateDU: 0.01, diffusionRateDV: 0.01, chemoBetaU: 1.0, chemoBetaV: 1.0, agentsNum: 1000, cellNumInLine: 250, speedV: 3.0, randomSeed: 10 } }"
      ]
     },
     "execution_count": 168,
     "metadata": {},
     "output_type": "execute_result"
    }
   ],
   "source": [
    "// let config = PatternFormationConfig::default();\n",
    "let mut model = PatternFormation::new(PatternFormationConfig::default());\n",
    "let others = model.positionX.clone().insert_axis(Axis(1));\n",
    "let subX = model.positionX.clone() - others;\n",
    "model"
   ]
  },
  {
   "cell_type": "code",
   "execution_count": 158,
   "id": "3f34f7aa",
   "metadata": {
    "vscode": {
     "languageId": "rust"
    }
   },
   "outputs": [
    {
     "data": {
      "text/plain": [
       "[[0.0, 0.0],\n",
       " [0.0, 0.0],\n",
       " [0.0, 0.0],\n",
       " [0.0, 0.0],\n",
       " [0.0, 0.0],\n",
       " [0.0, 0.0],\n",
       " [0.0, 0.0],\n",
       " [0.0, 0.0],\n",
       " [0.0, 0.0],\n",
       " [0.0, 0.0],\n",
       " [0.0, 0.0],\n",
       " [0.0, 0.0],\n",
       " [0.0, 0.0],\n",
       " [0.0, 0.0],\n",
       " [0.0, 0.0],\n",
       " [0.0, 0.0],\n",
       " [0.0, 0.0],\n",
       " [0.0, 0.0],\n",
       " [0.0, 0.0],\n",
       " [0.0, 0.0],\n",
       " [0.0, 0.0],\n",
       " [0.0, 0.0],\n",
       " [0.0, 0.0],\n",
       " [0.0, 0.0],\n",
       " [0.0, 0.0],\n",
       " [0.0, 0.0],\n",
       " [0.0, 0.0],\n",
       " [0.0, 0.0],\n",
       " [0.0, 0.0],\n",
       " [0.0, 0.0],\n",
       " [0.0, 0.0],\n",
       " [0.0, 0.0],\n",
       " [0.0, 0.0],\n",
       " [0.0, 0.0],\n",
       " [0.0, 0.0],\n",
       " [0.0, 0.0],\n",
       " [0.0, 0.0],\n",
       " [0.0, 0.0],\n",
       " [0.0, 0.0],\n",
       " [0.0, 0.0],\n",
       " [0.0, 0.0],\n",
       " [0.0, 0.0],\n",
       " [0.0, 0.0],\n",
       " [0.0, 0.0],\n",
       " [0.0, 0.0],\n",
       " [0.0, 0.0],\n",
       " [0.0, 0.0],\n",
       " [0.0, 0.0],\n",
       " [0.0, 0.0],\n",
       " [0.0, 0.0],\n",
       " [0.0, 0.0],\n",
       " [0.0, 0.0],\n",
       " [0.0, 0.0],\n",
       " [0.0, 0.0],\n",
       " [0.0, 0.0],\n",
       " [0.0, 0.0],\n",
       " [0.0, 0.0],\n",
       " [0.0, 0.0],\n",
       " [0.0, 0.0],\n",
       " [0.0, 0.0],\n",
       " [0.0, 0.0],\n",
       " [0.0, 0.0],\n",
       " [0.0, 0.0],\n",
       " [0.0, 0.0],\n",
       " [0.0, 0.0],\n",
       " [0.0, 0.0],\n",
       " [0.0, 0.0],\n",
       " [0.0, 0.0],\n",
       " [0.0, 0.0],\n",
       " [0.0, 0.0],\n",
       " [0.0, 0.0],\n",
       " [0.0, 0.0],\n",
       " [0.0, 0.0],\n",
       " [0.0, 0.0],\n",
       " [0.0, 0.0],\n",
       " [0.0, 0.0],\n",
       " [0.0, 0.0],\n",
       " [0.0, 0.0],\n",
       " [0.0, 0.0],\n",
       " [0.0, 0.0],\n",
       " [0.0, 0.0],\n",
       " [0.0, 0.0],\n",
       " [0.0, 0.0],\n",
       " [0.0, 0.0],\n",
       " [0.0, 0.0],\n",
       " [0.0, 0.0],\n",
       " [0.0, 0.0],\n",
       " [0.0, 0.0],\n",
       " [0.0, 0.0],\n",
       " [0.0, 0.0],\n",
       " [0.0, 0.0],\n",
       " [0.0, 0.0],\n",
       " [0.0, 0.0],\n",
       " [0.0, 0.0],\n",
       " [0.0, 0.0],\n",
       " [0.0, 0.0],\n",
       " [0.0, 0.0],\n",
       " [0.0, 0.0],\n",
       " [0.0, 0.0],\n",
       " [0.0, 0.0]], shape=[100, 2], strides=[2, 1], layout=Cc (0x5), const ndim=2"
      ]
     },
     "execution_count": 158,
     "metadata": {},
     "output_type": "execute_result"
    }
   ],
   "source": [
    "let c: Array<f64, Ix2> = Array::zeros((L_SIZE, 2));\n",
    "let c_ = c.clone().insert_axis(Axis(1));\n",
    "// c - c.insert_axis(Axis(1))\n",
    "c"
   ]
  },
  {
   "cell_type": "code",
   "execution_count": 9,
   "id": "fba75915",
   "metadata": {
    "vscode": {
     "languageId": "rust"
    }
   },
   "outputs": [],
   "source": [
    "let a = Array::linspace(0., 10., 11);\n",
    "let b = Array::linspace(0., 10., 11);"
   ]
  },
  {
   "cell_type": "code",
   "execution_count": 68,
   "id": "c279716d",
   "metadata": {
    "vscode": {
     "languageId": "rust"
    }
   },
   "outputs": [
    {
     "data": {
      "text/plain": [
       "[[3.1181959423520778, 7.398254113552798, 0.9054507828914282, 7.288312058240056, 0.46979328616078453],\n",
       " [5.84661463696243, 6.0534170114191195, 2.310179777619814, 6.67102895045365, 9.282527701718191]], shape=[2, 5], strides=[5, 1], layout=Cc (0x5), const ndim=2"
      ]
     },
     "execution_count": 68,
     "metadata": {},
     "output_type": "execute_result"
    }
   ],
   "source": [
    "let seed: u64 = 42;\n",
    "let mut rng = Isaac64Rng::seed_from_u64(seed);\n",
    "//  = Isaac64Rng::seed_from_u64(seed);\n",
    "\n",
    "// Generate a random array using `rng`\n",
    "let a = Array::random_using((2, 5), Uniform::new(0., 10.), &mut rng);\n",
    "Array::random_using((2, 5), Uniform::new(0., 10.), &mut rng)"
   ]
  },
  {
   "cell_type": "code",
   "execution_count": 55,
   "id": "4471dd7a",
   "metadata": {
    "vscode": {
     "languageId": "rust"
    }
   },
   "outputs": [
    {
     "data": {
      "text/plain": [
       "[[4.709879346094081, 7.781792332881869, 7.280398704422922, 2.4949100191426288, 4.117271206212072],\n",
       " [7.624596970211634, 7.920856030429395, 6.8138502792472995, 6.713713388957947, 8.515178964314147]], shape=[2, 5], strides=[5, 1], layout=Cc (0x5), const ndim=2"
      ]
     },
     "execution_count": 55,
     "metadata": {},
     "output_type": "execute_result"
    }
   ],
   "source": [
    "Array::random_using((2, 5), Uniform::new(0., 10.), &mut rng)"
   ]
  },
  {
   "cell_type": "code",
   "execution_count": 58,
   "id": "7776c05e",
   "metadata": {
    "vscode": {
     "languageId": "rust"
    }
   },
   "outputs": [
    {
     "data": {
      "text/plain": [
       "Isaac64Rng(BlockRng64 { core: Isaac64Core {}, result_len: 256, index: 20, half_used: false })"
      ]
     },
     "execution_count": 58,
     "metadata": {},
     "output_type": "execute_result"
    }
   ],
   "source": [
    "rng"
   ]
  },
  {
   "cell_type": "code",
   "execution_count": 57,
   "id": "49a450b7",
   "metadata": {
    "vscode": {
     "languageId": "rust"
    }
   },
   "outputs": [
    {
     "data": {
      "text/plain": [
       "[[3.1181959423520778, 7.398254113552798, 0.9054507828914282, 7.288312058240056, 0.46979328616078453],\n",
       " [5.84661463696243, 6.0534170114191195, 2.310179777619814, 6.67102895045365, 9.282527701718191]], shape=[2, 5], strides=[5, 1], layout=Cc (0x5), const ndim=2"
      ]
     },
     "execution_count": 57,
     "metadata": {},
     "output_type": "execute_result"
    }
   ],
   "source": [
    "Array::random_using((2, 5), Uniform::new(0., 10.), &mut rng)"
   ]
  },
  {
   "cell_type": "code",
   "execution_count": 37,
   "id": "e940cf78",
   "metadata": {
    "vscode": {
     "languageId": "rust"
    }
   },
   "outputs": [
    {
     "ename": "Error",
     "evalue": "expected `;`, found <end of input>",
     "output_type": "error",
     "traceback": [
      "\u001b[31mError:\u001b[0m expected `;`, found <end of input>",
      "   \u001b[38;5;246m╭\u001b[0m\u001b[38;5;246m─\u001b[0m\u001b[38;5;246m[\u001b[0mcommand_37:1:1\u001b[38;5;246m]\u001b[0m",
      "   \u001b[38;5;246m│\u001b[0m",
      " \u001b[38;5;246m1 │\u001b[0m \u001b[38;5;249mI\u001b[0m\u001b[38;5;249ms\u001b[0m\u001b[38;5;249ma\u001b[0m\u001b[38;5;249ma\u001b[0m\u001b[38;5;249mc\u001b[0m\u001b[38;5;249m6\u001b[0m\u001b[38;5;249m4\u001b[0m\u001b[38;5;249mR\u001b[0m\u001b[38;5;249mn\u001b[0m\u001b[38;5;249mg\u001b[0m\u001b[38;5;249m \u001b[0m\u001b[38;5;249m/\u001b[0m\u001b[38;5;249m/\u001b[0m\u001b[38;5;249m \u001b[0m\u001b[38;5;249m:\u001b[0m\u001b[38;5;249m:\u001b[0m\u001b[38;5;249ms\u001b[0m\u001b[38;5;249me\u001b[0m\u001b[38;5;249me\u001b[0m\u001b[38;5;249md\u001b[0m\u001b[38;5;249m_\u001b[0m\u001b[38;5;249mf\u001b[0m\u001b[38;5;249mr\u001b[0m\u001b[38;5;249mo\u001b[0m\u001b[38;5;249mm\u001b[0m\u001b[38;5;249m_\u001b[0m\u001b[38;5;249mu\u001b[0m\u001b[38;5;249m6\u001b[0m\u001b[38;5;249m4\u001b[0m\u001b[38;5;249m(\u001b[0m\u001b[38;5;249ms\u001b[0m\u001b[38;5;249me\u001b[0m\u001b[38;5;249me\u001b[0m\u001b[38;5;249md\u001b[0m\u001b[38;5;249m)\u001b[0m\u001b[38;5;249m;\u001b[0m",
      " \u001b[38;5;246m  ·\u001b[0m           \u001b[38;5;54m│\u001b[0m ",
      " \u001b[38;5;246m  ·\u001b[0m           \u001b[38;5;54m╰\u001b[0m\u001b[38;5;54m─\u001b[0m error: expected `;`, found `evcxr_variable_store`",
      " \u001b[38;5;246m  ·\u001b[0m           \u001b[38;5;100m│\u001b[0m ",
      " \u001b[38;5;246m  ·\u001b[0m           \u001b[38;5;100m╰\u001b[0m\u001b[38;5;100m─\u001b[0m help: add `;` here: `;`",
      "\u001b[38;5;246m───╯\u001b[0m"
     ]
    },
    {
     "ename": "Error",
     "evalue": "use of deprecated associated function `ndarray::impl_methods::<impl ndarray::ArrayBase<S, D>>::into_shape`: Use `.into_shape_with_order()` or `.to_shape()`",
     "output_type": "error",
     "traceback": [
      "\u001b[31m[deprecated] Error:\u001b[0m use of deprecated associated function `ndarray::impl_methods::<impl ndarray::ArrayBase<S, D>>::into_shape`: Use `.into_shape_with_order()` or `.to_shape()`"
     ]
    }
   ],
   "source": [
    "Isaac64Rng // ::seed_from_u64(seed);"
   ]
  },
  {
   "cell_type": "code",
   "execution_count": 163,
   "id": "726fb035",
   "metadata": {
    "vscode": {
     "languageId": "rust"
    }
   },
   "outputs": [
    {
     "data": {
      "text/plain": [
       "[[4.0, 5.0, 6.0],\n",
       " [7.0, 8.0, 9.0],\n",
       " [1.0, 2.0, 3.0]], shape=[3, 3], strides=[3, 1], layout=Cc (0x5), const ndim=2"
      ]
     },
     "execution_count": 163,
     "metadata": {},
     "output_type": "execute_result"
    }
   ],
   "source": [
    "concatenate![Axis(0), c.slice(s![1.., ..]), c.slice(s![0..1, ..])]"
   ]
  },
  {
   "cell_type": "code",
   "execution_count": 184,
   "id": "3387df37",
   "metadata": {
    "vscode": {
     "languageId": "rust"
    }
   },
   "outputs": [],
   "source": []
  },
  {
   "cell_type": "code",
   "execution_count": 185,
   "id": "273c5f37",
   "metadata": {
    "vscode": {
     "languageId": "rust"
    }
   },
   "outputs": [
    {
     "data": {
      "text/plain": [
       "[[3.0, 2.25, 1.5],\n",
       " [0.75, 0.0, -0.75],\n",
       " [-1.5, -2.25, -3.0]], shape=[3, 3], strides=[3, 1], layout=Cc (0x5), const ndim=2"
      ]
     },
     "execution_count": 185,
     "metadata": {},
     "output_type": "execute_result"
    }
   ],
   "source": [
    "nabla2C(&c)"
   ]
  },
  {
   "cell_type": "code",
   "execution_count": 4,
   "id": "83c166c2",
   "metadata": {
    "vscode": {
     "languageId": "rust"
    }
   },
   "outputs": [
    {
     "name": "stdout",
     "output_type": "stream",
     "text": [
      "mean duration: 76.285µs\n"
     ]
    }
   ],
   "source": [
    "use std::time::{Instant};\n",
    "let counts: usize = 10000;\n",
    "fn func(c: &Array<f64, Ix2>) {\n",
    "    // c.select(Axis(0), &*UP_ROLL_SLC);\n",
    "    nabla2C(&c);\n",
    "    // concatenate![Axis(0), c.slice(s![1.., ..]), c.slice(s![0..1, ..])];\n",
    "}\n",
    "\n",
    "let start = Instant::now();\n",
    "func(&c);\n",
    "let mut duration = start.elapsed();\n",
    "for _ in 0..(counts - 1) {\n",
    "    let start = Instant::now();\n",
    "    func(&c);\n",
    "    duration += start.elapsed();\n",
    "}\n",
    "println!(\"mean duration: {:?}\", duration / counts as u32);"
   ]
  },
  {
   "cell_type": "code",
   "execution_count": 130,
   "id": "66905797",
   "metadata": {
    "vscode": {
     "languageId": "rust"
    }
   },
   "outputs": [
    {
     "data": {
      "text/plain": [
       "[[2.0, 3.0, 1.0],\n",
       " [5.0, 6.0, 4.0],\n",
       " [8.0, 9.0, 7.0]], shape=[3, 3], strides=[1, 3], layout=Ff (0xa), const ndim=2"
      ]
     },
     "execution_count": 130,
     "metadata": {},
     "output_type": "execute_result"
    }
   ],
   "source": [
    "c.select(Axis(1), &*DOWN_ROLL_SLC2)"
   ]
  },
  {
   "cell_type": "code",
   "execution_count": 22,
   "id": "2877c6c5",
   "metadata": {
    "vscode": {
     "languageId": "rust"
    }
   },
   "outputs": [
    {
     "data": {
      "text/plain": [
       "[[1.0, 2.0],\n",
       " [3.0, 4.0]], shape=[2, 2], strides=[2, 1], layout=Cc (0x5), const ndim=2"
      ]
     },
     "execution_count": 22,
     "metadata": {},
     "output_type": "execute_result"
    }
   ],
   "source": [
    "testC"
   ]
  },
  {
   "cell_type": "code",
   "execution_count": 131,
   "id": "eea42cd8",
   "metadata": {
    "vscode": {
     "languageId": "rust"
    }
   },
   "outputs": [],
   "source": [
    "// 实现类似numpy.roll的功能\n",
    "\n",
    "\n",
    "// roll(&testC, 1)"
   ]
  },
  {
   "cell_type": "code",
   "execution_count": 137,
   "id": "88eb2479",
   "metadata": {
    "vscode": {
     "languageId": "rust"
    }
   },
   "outputs": [
    {
     "data": {
      "text/plain": [
       "[[3.0, 1.0, 2.0],\n",
       " [6.0, 4.0, 5.0],\n",
       " [9.0, 7.0, 8.0]], shape=[3, 3], strides=[1, 3], layout=Ff (0xa), const ndim=2"
      ]
     },
     "execution_count": 137,
     "metadata": {},
     "output_type": "execute_result"
    }
   ],
   "source": [
    "roll(&c, Direction::Right)"
   ]
  }
 ],
 "metadata": {
  "kernelspec": {
   "display_name": "Rust",
   "language": "rust",
   "name": "rust"
  },
  "language_info": {
   "codemirror_mode": "rust",
   "file_extension": ".rs",
   "mimetype": "text/rust",
   "name": "Rust",
   "pygment_lexer": "rust",
   "version": ""
  }
 },
 "nbformat": 4,
 "nbformat_minor": 5
}
