{
 "cells": [
  {
   "cell_type": "code",
   "execution_count": 2,
   "id": "623f457e-05fe-4f2f-8a0c-74b1e8cd401e",
   "metadata": {
    "vscode": {
     "languageId": "rust"
    }
   },
   "outputs": [],
   "source": [
    ":dep ndarray\n",
    ":dep once_cell\n",
    ":dep ndarray-rand\n",
    ":dep rand_isaac\n",
    "\n",
    "use ndarray::prelude::*;\n",
    "use ndarray::{concatenate, Axis};\n",
    "use once_cell::sync::Lazy;\n",
    "use ndarray_rand::RandomExt;\n",
    "use ndarray_rand::rand_distr::Uniform;\n",
    "use rand_isaac::isaac64::Isaac64Rng;\n",
    "use ndarray_rand::rand::SeedableRng;\n",
    "use std::any::Any;"
   ]
  },
  {
   "cell_type": "code",
   "execution_count": 108,
   "id": "c56d852a",
   "metadata": {
    "vscode": {
     "languageId": "rust"
    }
   },
   "outputs": [],
   "source": [
    "const L_SIZE: usize = 100;\n",
    "\n",
    "static UP_ROLL_SLC: Lazy<[usize; L_SIZE]> = Lazy::new(|| {  // left\n",
    "    let mut arr = [0_usize; L_SIZE];\n",
    "    for i in 0..L_SIZE - 1 {\n",
    "        arr[i] = i + 1;\n",
    "    }\n",
    "    arr[L_SIZE - 1] = 0;\n",
    "    arr\n",
    "});\n",
    "static DOWN_ROLL_SLC: Lazy<[usize; L_SIZE]> = Lazy::new(|| {  // right\n",
    "    let mut arr = [0_usize; L_SIZE];\n",
    "    for i in 1..L_SIZE {\n",
    "        arr[i] = i - 1;\n",
    "    }\n",
    "    arr[0] = L_SIZE - 1;\n",
    "    arr\n",
    "});\n",
    "\n",
    "enum Direction {\n",
    "    Up,\n",
    "    Down,\n",
    "    Left,\n",
    "    Right,\n",
    "}\n",
    "\n",
    "fn roll(arr: &Array<f64, Ix2>, direction: Direction) -> Array<f64, Ix2> {\n",
    "    match direction{\n",
    "        Direction::Up => {\n",
    "            concatenate![Axis(0), arr.slice(s![1.., ..]), arr.slice(s![0..1, ..])]\n",
    "        },\n",
    "        Direction::Down => {\n",
    "            concatenate![Axis(0), arr.slice(s![L_SIZE-1.., ..]), arr.slice(s![..L_SIZE-1, ..])]\n",
    "        },\n",
    "        Direction::Left => {\n",
    "            concatenate![Axis(1), arr.slice(s![.., 1..]), arr.slice(s![.., 0..1])]\n",
    "        },\n",
    "        Direction::Right => {\n",
    "            concatenate![Axis(1), arr.slice(s![.., L_SIZE-1..]), arr.slice(s![.., ..L_SIZE-1])]\n",
    "        },\n",
    "    }\n",
    "}\n",
    "\n",
    "fn nabla2C(c: &Array<f64, Ix2>) -> Array<f64, Ix2> {\n",
    "    (\n",
    "        roll(c, Direction::Up) + \n",
    "        roll(c, Direction::Down) + \n",
    "        roll(c, Direction::Left) + \n",
    "        roll(c, Direction::Right) - \n",
    "        4. * c\n",
    "    ) / 4.\n",
    "}\n",
    "\n",
    "fn cartesian_product(arr1: &Array<f64, Ix1>, arr2: &Array<f64, Ix1>) -> Array2<f64> {\n",
    "    let (n, m) = (arr1.len(), arr2.len());\n",
    "    let mut product = Array2::<f64>::zeros((n * m, 2));\n",
    "\n",
    "    for (i, val1) in arr1.iter().enumerate() {\n",
    "        for (j, val2) in arr2.iter().enumerate() {\n",
    "            product[[i * m + j, 0]] = *val1;\n",
    "            product[[i * m + j, 1]] = *val2;\n",
    "        }\n",
    "    }\n",
    "\n",
    "    product\n",
    "}\n",
    "\n",
    "fn _distance_x(deltaX: &Array<f64, Ix3>) -> Array<f64, Ix2> {\n",
    "    (deltaX.mapv(|x| x.powi(2)).sum_axis(Axis(2))).mapv(f64::sqrt)\n",
    "}\n",
    "\n",
    "\n",
    "pub struct PatternFormationConfig {\n",
    "    couplingK: f64, alpha: f64, u0: f64, v0: f64, dt: f64, boundaryLength: f64,\n",
    "    decayRateKd: f64, feedRateKf: f64, productRateKU: f64, productRateKV: f64,\n",
    "    diffusionRateDU: f64, diffusionRateDV: f64, chemoBetaU: f64, chemoBetaV: f64, \n",
    "    agentsNum: usize, cellNumInLine: usize, speedV: f64, randomSeed: u64\n",
    "}\n",
    "\n",
    "impl Default for PatternFormationConfig {\n",
    "    fn default() -> Self {\n",
    "        PatternFormationConfig{\n",
    "            couplingK: 1.,\n",
    "            alpha: 1.,\n",
    "            u0: 0.012,\n",
    "            v0: 0.012,\n",
    "            dt: 0.02,\n",
    "            boundaryLength: 10.,\n",
    "            decayRateKd: 1.,\n",
    "            feedRateKf: 1.,\n",
    "            productRateKU: 1.,\n",
    "            productRateKV: 1.,\n",
    "            diffusionRateDU: 0.01,\n",
    "            diffusionRateDV: 0.01,\n",
    "            chemoBetaU: 1.,\n",
    "            chemoBetaV: 1.,\n",
    "            agentsNum: 1000,\n",
    "            cellNumInLine: 250,\n",
    "            speedV: 3.,\n",
    "            randomSeed: 10,\n",
    "        }\n",
    "    }\n",
    "}\n",
    "impl std::fmt::Debug for PatternFormationConfig {\n",
    "    fn fmt(&self, f: &mut std::fmt::Formatter<'_>) -> std::fmt::Result {\n",
    "        f.debug_struct(\"PatternFormationConfig\")\n",
    "            .field(\"couplingK\", &self.couplingK)\n",
    "            .field(\"alpha\", &self.alpha)\n",
    "            .field(\"u0\", &self.u0)\n",
    "            .field(\"v0\", &self.v0)\n",
    "            .field(\"dt\", &self.dt)\n",
    "            .field(\"boundaryLength\", &self.boundaryLength)\n",
    "            .field(\"decayRateKd\", &self.decayRateKd)\n",
    "            .field(\"feedRateKf\", &self.feedRateKf)\n",
    "            .field(\"productRateKU\", &self.productRateKU)\n",
    "            .field(\"productRateKV\", &self.productRateKV)\n",
    "            .field(\"diffusionRateDU\", &self.diffusionRateDU)\n",
    "            .field(\"diffusionRateDV\", &self.diffusionRateDV)\n",
    "            .field(\"chemoBetaU\", &self.chemoBetaU)\n",
    "            .field(\"chemoBetaV\", &self.chemoBetaV)\n",
    "            .field(\"agentsNum\", &self.agentsNum)\n",
    "            .field(\"cellNumInLine\", &self.cellNumInLine)\n",
    "            .field(\"speedV\", &self.speedV)\n",
    "            .field(\"randomSeed\", &self.randomSeed)\n",
    "            .finish()\n",
    "    }\n",
    "}\n",
    "\n",
    "pub struct PatternFormation {\n",
    "    positionX: Array<f64, Ix2>, \n",
    "    phaseTheta: Array<f64, Ix1>, freqOmega: Array<f64, Ix1>,\n",
    "    cemoU: Array<f64, Ix2>, cemoV: Array<f64, Ix2>,\n",
    "    boundaryLength: f64,\n",
    "    halfBoundaryLength: f64,\n",
    "    cellNumInLine: usize,\n",
    "    cemoPositon: Array<f64, Ix2>,\n",
    "    dx: f64,\n",
    "    agentsNum: usize,\n",
    "    productRateKU: f64,\n",
    "    productRateKV: f64,\n",
    "    decayRateKd: f64,\n",
    "    feedRateKf: f64,\n",
    "    diffusionRateDU: f64,\n",
    "    diffusionRateDV: f64,\n",
    "    chemoBetaU: f64,\n",
    "    chemoBetaV: f64,\n",
    "    u0: f64,\n",
    "    v0: f64,\n",
    "    dt: f64,\n",
    "    speedV: f64,\n",
    "    couplingK: f64,\n",
    "    alpha: f64,\n",
    "    config: PatternFormationConfig,\n",
    "    // tempState\n",
    "    newAxisPositionX: Array<f64, Ix3>,\n",
    "    newAxisPhaseTheta: Array<f64, Ix2>,\n",
    "    tempDistanceCX: Array<f64, Ix2>,\n",
    "    tempDirectionP: Array<f64, Ix2>,\n",
    "}\n",
    "\n",
    "\n",
    "impl PatternFormation {\n",
    "    fn new(config: PatternFormationConfig) -> Self {\n",
    "        let mut rng = Isaac64Rng::seed_from_u64(config.randomSeed);\n",
    "        let positionX = Array::random_using(\n",
    "            (config.agentsNum, 2), \n",
    "            Uniform::new(0., config.boundaryLength), \n",
    "            &mut rng\n",
    "        );\n",
    "        let phaseTheta = Array::random_using(\n",
    "            config.agentsNum, Uniform::new(0., 2. * std::f64::consts::PI), &mut rng);\n",
    "        let halfFreq = Array::random_using(config.agentsNum / 2, Uniform::new(1., 3.), &mut rng);\n",
    "        let freqOmega = concatenate![\n",
    "            Axis(0), halfFreq.clone(), -halfFreq.clone()\n",
    "        ];\n",
    "        let cemoU = Array::ones((config.cellNumInLine, config.cellNumInLine)) * config.u0;\n",
    "        let cemoV = Array::ones((config.cellNumInLine, config.cellNumInLine)) * config.v0;\n",
    "        let cemoPositon = cartesian_product(\n",
    "            &Array::linspace(0., config.boundaryLength, config.cellNumInLine),\n",
    "            &Array::linspace(0., config.boundaryLength, config.cellNumInLine)\n",
    "        );\n",
    "        let dx = config.boundaryLength / config.cellNumInLine as f64;\n",
    "        let halfBoundaryLength = config.boundaryLength / 2.;\n",
    "        let newAxisPositionX = positionX.clone().insert_axis(Axis(1));\n",
    "        let newAxisPhaseTheta = phaseTheta.clone().insert_axis(Axis(1));\n",
    "        let tempDistanceCX = Array::zeros((config.agentsNum, config.cellNumInLine * config.cellNumInLine));\n",
    "        let tempDirectionP = concatenate![\n",
    "            Axis(1), \n",
    "            phaseTheta.mapv(f64::cos).slice(s![.., NewAxis]), \n",
    "            phaseTheta.mapv(f64::sin).slice(s![.., NewAxis])\n",
    "        ];\n",
    "\n",
    "        PatternFormation {\n",
    "            positionX: positionX, \n",
    "            phaseTheta: phaseTheta, \n",
    "            freqOmega: freqOmega,\n",
    "            cemoU: cemoU, \n",
    "            cemoV: cemoV,\n",
    "            boundaryLength: config.boundaryLength,\n",
    "            halfBoundaryLength: halfBoundaryLength,\n",
    "            cellNumInLine: config.cellNumInLine,\n",
    "            cemoPositon: cemoPositon,\n",
    "            dx: dx,\n",
    "            agentsNum: config.agentsNum,\n",
    "            productRateKU: config.productRateKU,\n",
    "            productRateKV: config.productRateKV,\n",
    "            decayRateKd: config.decayRateKd,\n",
    "            feedRateKf: config.feedRateKf,\n",
    "            diffusionRateDU: config.diffusionRateDU,\n",
    "            diffusionRateDV: config.diffusionRateDV,\n",
    "            chemoBetaU: config.chemoBetaU,\n",
    "            chemoBetaV: config.chemoBetaV,\n",
    "            u0: config.u0,\n",
    "            v0: config.v0,\n",
    "            dt: config.dt,\n",
    "            speedV: config.speedV,\n",
    "            couplingK: config.couplingK,\n",
    "            alpha: config.alpha,\n",
    "            config: config,\n",
    "            newAxisPositionX: newAxisPositionX,\n",
    "            newAxisPhaseTheta: newAxisPhaseTheta,\n",
    "            tempDistanceCX: tempDistanceCX,\n",
    "            tempDirectionP: tempDirectionP,\n",
    "        }\n",
    "    }\n",
    "    fn _delta_x(&self, position: &Array<f64, Ix2>, others: &Array<f64, Ix3>) -> Array<f64, Ix3> {\n",
    "        // let subX = position - others;\n",
    "        (position - others).mapv(|x| {\n",
    "            if x > self.halfBoundaryLength {\n",
    "                x - self.boundaryLength\n",
    "            } else if x < -self.halfBoundaryLength {\n",
    "                x + self.boundaryLength\n",
    "            } else {\n",
    "                x\n",
    "            }\n",
    "        })\n",
    "    } \n",
    "    fn _mod_position(&self, position: &Array<f64, Ix2>) -> Array<f64, Ix2> {\n",
    "        position.mapv(|x| {\n",
    "            if x > self.boundaryLength {\n",
    "                x - self.boundaryLength\n",
    "            } else if x < 0. {\n",
    "                x + self.boundaryLength\n",
    "            } else {\n",
    "                x\n",
    "            }\n",
    "        })\n",
    "    }\n",
    "    fn directionP(&self) -> Array<f64, Ix2> {\n",
    "        concatenate![\n",
    "            Axis(1), \n",
    "            self.phaseTheta.mapv(f64::cos).slice(s![.., NewAxis]), \n",
    "            self.phaseTheta.mapv(f64::sin).slice(s![.., NewAxis])\n",
    "        ]\n",
    "    }\n",
    "    fn deltaCX(&self) -> Array<f64, Ix3> {\n",
    "        self._delta_x(&self.cemoPositon, &self.newAxisPositionX)\n",
    "    }   \n",
    "    fn deltaX(&self) -> Array<f64, Ix3> {\n",
    "        self._delta_x(&self.positionX, &self.newAxisPositionX)\n",
    "    }\n",
    "    fn adjacency(&self) -> Array<f64, Ix2> {\n",
    "        (_distance_x(&self.deltaX()) / -self.alpha).mapv(|x| f64::exp(x))\n",
    "    }\n",
    "    fn dotTheta(&self) -> Array<f64, Ix1> {\n",
    "        &self.freqOmega + self.couplingK * (\n",
    "            self.adjacency() * (&self.newAxisPhaseTheta - &self.phaseTheta)\n",
    "        ).sum_axis(Axis(0))\n",
    "    }\n",
    "    fn update(&mut self) {\n",
    "        self.newAxisPositionX.assign(&self.positionX.clone().insert_axis(Axis(1)));\n",
    "        self.newAxisPhaseTheta.assign(&self.phaseTheta.clone().insert_axis(Axis(1)));\n",
    "        self.tempDistanceCX.assign(&_distance_x(&self.deltaCX()));\n",
    "        self.tempDirectionP.assign(&self.directionP());\n",
    "        self.positionX.assign(&(self.dt * self.speedV * &self.tempDirectionP));\n",
    "        self.positionX.assign(&self._mod_position(&self.positionX));\n",
    "    }\n",
    "}\n",
    "impl std::fmt::Debug for PatternFormation {\n",
    "    fn fmt(&self, f: &mut std::fmt::Formatter<'_>) -> std::fmt::Result {\n",
    "        f.debug_struct(\"PatternFormation on\")\n",
    "            .field(\"\", &self.config)\n",
    "            .finish()\n",
    "    }\n",
    "}\n",
    "\n",
    "\n",
    "let c: Array<f64, Ix2> = Array::zeros((L_SIZE, L_SIZE));\n",
    "// let c: Array<f64, Ix2> = Array::from_shape_vec((3, 3), vec![1., 2., 3., 4., 5., 6., 7., 8., 9.]).unwrap();"
   ]
  },
  {
   "cell_type": "code",
   "execution_count": 115,
   "id": "62dfd789",
   "metadata": {
    "vscode": {
     "languageId": "rust"
    }
   },
   "outputs": [],
   "source": [
    "// let config = PatternFormationConfig::default();\n",
    "let mut model = PatternFormation::new(PatternFormationConfig {\n",
    "    cellNumInLine: 100,\n",
    "    ..Default::default() // 使用其他默认值\n",
    "});\n",
    "\n",
    "// let others = model.positionX.clone().insert_axis(Axis(1));\n",
    "// let subX = model.positionX.clone() - others;\n",
    "// model._delta_x(&model.positionX, &model.positionX.clone().insert_axis(Axis(1)))"
   ]
  },
  {
   "cell_type": "code",
   "execution_count": 114,
   "id": "c9462f4d",
   "metadata": {
    "vscode": {
     "languageId": "rust"
    }
   },
   "outputs": [
    {
     "data": {
      "text/plain": [
       "[-65.68208292889942, 127.13880680764652, 8.839083901147328, 107.053735148406, 108.45889617554754, ..., 3.3192618651834316, -85.77975504243184, 123.20568491944722, -13.181240663328468, -92.84579396764052], shape=[1000], strides=[1], layout=CFcf (0xf), const ndim=1"
      ]
     },
     "execution_count": 114,
     "metadata": {},
     "output_type": "execute_result"
    }
   ],
   "source": [
    "model.dotTheta()"
   ]
  },
  {
   "cell_type": "code",
   "execution_count": 119,
   "id": "83c166c2",
   "metadata": {
    "vscode": {
     "languageId": "rust"
    }
   },
   "outputs": [
    {
     "name": "stdout",
     "output_type": "stream",
     "text": [
      "mean duration: 53.202678ms\n"
     ]
    }
   ],
   "source": [
    "use std::time::{Instant};\n",
    "let counts: usize = 100;\n",
    "fn func(model: &PatternFormation) {\n",
    "    // c.select(Axis(0), &*UP_ROLL_SLC);\n",
    "    model.dotTheta();\n",
    "    // concatenate![Axis(0), c.slice(s![1.., ..]), c.slice(s![0..1, ..])];\n",
    "}\n",
    "\n",
    "let start = Instant::now();\n",
    "func(&model);\n",
    "let mut duration = start.elapsed();\n",
    "for _ in 0..(counts - 1) {\n",
    "    let start = Instant::now();\n",
    "    func(&model);\n",
    "    duration += start.elapsed();\n",
    "}\n",
    "println!(\"mean duration: {:?}\", duration / counts as u32);"
   ]
  },
  {
   "cell_type": "code",
   "execution_count": 130,
   "id": "66905797",
   "metadata": {
    "vscode": {
     "languageId": "rust"
    }
   },
   "outputs": [
    {
     "data": {
      "text/plain": [
       "[[2.0, 3.0, 1.0],\n",
       " [5.0, 6.0, 4.0],\n",
       " [8.0, 9.0, 7.0]], shape=[3, 3], strides=[1, 3], layout=Ff (0xa), const ndim=2"
      ]
     },
     "execution_count": 130,
     "metadata": {},
     "output_type": "execute_result"
    }
   ],
   "source": [
    "c.select(Axis(1), &*DOWN_ROLL_SLC2)"
   ]
  },
  {
   "cell_type": "code",
   "execution_count": 22,
   "id": "2877c6c5",
   "metadata": {
    "vscode": {
     "languageId": "rust"
    }
   },
   "outputs": [
    {
     "data": {
      "text/plain": [
       "[[1.0, 2.0],\n",
       " [3.0, 4.0]], shape=[2, 2], strides=[2, 1], layout=Cc (0x5), const ndim=2"
      ]
     },
     "execution_count": 22,
     "metadata": {},
     "output_type": "execute_result"
    }
   ],
   "source": [
    "testC"
   ]
  },
  {
   "cell_type": "code",
   "execution_count": 131,
   "id": "eea42cd8",
   "metadata": {
    "vscode": {
     "languageId": "rust"
    }
   },
   "outputs": [],
   "source": [
    "// 实现类似numpy.roll的功能\n",
    "\n",
    "\n",
    "// roll(&testC, 1)"
   ]
  },
  {
   "cell_type": "code",
   "execution_count": 137,
   "id": "88eb2479",
   "metadata": {
    "vscode": {
     "languageId": "rust"
    }
   },
   "outputs": [
    {
     "data": {
      "text/plain": [
       "[[3.0, 1.0, 2.0],\n",
       " [6.0, 4.0, 5.0],\n",
       " [9.0, 7.0, 8.0]], shape=[3, 3], strides=[1, 3], layout=Ff (0xa), const ndim=2"
      ]
     },
     "execution_count": 137,
     "metadata": {},
     "output_type": "execute_result"
    }
   ],
   "source": [
    "roll(&c, Direction::Right)"
   ]
  }
 ],
 "metadata": {
  "kernelspec": {
   "display_name": "Rust",
   "language": "rust",
   "name": "rust"
  },
  "language_info": {
   "codemirror_mode": "rust",
   "file_extension": ".rs",
   "mimetype": "text/rust",
   "name": "Rust",
   "pygment_lexer": "rust",
   "version": ""
  }
 },
 "nbformat": 4,
 "nbformat_minor": 5
}
