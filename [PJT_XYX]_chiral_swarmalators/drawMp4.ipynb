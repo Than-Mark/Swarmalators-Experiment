{
 "cells": [
  {
   "cell_type": "code",
   "execution_count": 1,
   "metadata": {},
   "outputs": [],
   "source": [
    "import matplotlib.colors as mcolors\n",
    "import matplotlib.animation as ma\n",
    "import matplotlib.pyplot as plt\n",
    "from itertools import product\n",
    "import numpy as np\n",
    "import numba as nb\n",
    "import imageio\n",
    "import shutil\n",
    "import sys\n",
    "import os\n",
    "\n",
    "if \"ipykernel_launcher.py\" in sys.argv[0]:\n",
    "    from tqdm.notebook import tqdm\n",
    "else:\n",
    "    from tqdm import tqdm\n",
    "\n",
    "randomSeed = 100\n",
    "\n",
    "%matplotlib inline\n",
    "%config InlineBackend.figure_format = \"retina\"\n",
    "\n",
    "new_cmap = mcolors.LinearSegmentedColormap.from_list(\n",
    "    \"new\", plt.cm.jet(np.linspace(0, 1, 256)) * 0.85, N=256\n",
    ")\n",
    "\n",
    "@nb.njit\n",
    "def colors_idx(phaseTheta):\n",
    "    return np.floor(256 - phaseTheta / (2 * np.pi) * 256).astype(np.int32)\n",
    "\n",
    "import seaborn as sns\n",
    "\n",
    "sns.set_theme(\n",
    "    style=\"ticks\", \n",
    "    font_scale=1.1, rc={\n",
    "    'figure.figsize': (6, 5),\n",
    "    'axes.facecolor': 'white',\n",
    "    'figure.facecolor': 'white',\n",
    "    'grid.color': '#dddddd',\n",
    "    'grid.linewidth': 0.5,\n",
    "    \"lines.linewidth\": 1.5,\n",
    "    'text.color': '#000000',\n",
    "    'figure.titleweight': \"bold\",\n",
    "    'xtick.color': '#000000',\n",
    "    'ytick.color': '#000000'\n",
    "})\n",
    "\n",
    "plt.rcParams['mathtext.fontset'] = 'cm'\n",
    "plt.rcParams['font.family'] = 'STIXGeneral'\n",
    "plt.rcParams['animation.ffmpeg_path'] = \"/opt/conda/bin/ffmpeg\"\n",
    "\n",
    "from main import *\n",
    "from multiprocessing import Pool\n",
    "import pandas as pd\n",
    "\n",
    "colors = [\"#403990\", \"#80A6E2\", \"#FBDD85\", \"#F46F43\", \"#CF3D3E\"]\n",
    "cmap = mcolors.LinearSegmentedColormap.from_list(\"my_colormap\", colors)\n",
    "cmap_r = mcolors.LinearSegmentedColormap.from_list(\"my_colormap\", colors[::-1])"
   ]
  },
  {
   "cell_type": "code",
   "execution_count": 2,
   "metadata": {},
   "outputs": [],
   "source": [
    "import matplotlib.patheffects as pe\n",
    "\n",
    "colors = [\"#403990\", \"#80A6E2\", \"#FBDD85\", \"#F46F43\", \"#CF3D3E\"]\n",
    "cmap = mcolors.LinearSegmentedColormap.from_list(\"my_colormap\", colors)\n",
    "class1, class2 = (\n",
    "    np.concatenate([np.ones(500), np.zeros(500)]).astype(bool), \n",
    "    np.concatenate([np.zeros(500), np.ones(500)]).astype(bool)\n",
    ")\n",
    "alphaRate = 0.9\n",
    "scale = 35\n",
    "width = 0.003\n",
    "\n",
    "def draw_mp4(sa: StateAnalysis, fileName: str, mp4Path: str = \"./normalMP4\", step: int = 1, tailCounts: int = None):\n",
    "    \n",
    "    def plot_frame(i):\n",
    "        pbar.update(1)\n",
    "        fig.clear()\n",
    "        ax = plt.subplot(1, 1, 1)\n",
    "        singlePositionX, singlePhaseTheta, _ = sa.get_state(index=i)\n",
    "        omegaTheta = sa.model.omegaTheta\n",
    "        if isinstance(sa.model, SingleDistribution):\n",
    "            ax.quiver(\n",
    "                singlePositionX[:, 0], singlePositionX[:, 1],\n",
    "                np.cos(singlePhaseTheta[:]), np.sin(singlePhaseTheta[:]), \n",
    "                color=[cmap(i) for i in (omegaTheta - 1) / 2], alpha=1,\n",
    "                scale=23, width=0.005\n",
    "            )\n",
    "        elif isinstance(sa.model, SpatialGroups):\n",
    "            ax.quiver(\n",
    "                singlePositionX[class1, 0], singlePositionX[class1, 1],\n",
    "                np.cos(singlePhaseTheta[class1]), np.sin(singlePhaseTheta[class1]), color='red', \n",
    "                # alpha = (1 - alphaRate) + (np.abs(omegaTheta[class1]) - 1) / 2 * alphaRate,\n",
    "                scale=scale, width=width\n",
    "            )\n",
    "            ax.quiver(\n",
    "                singlePositionX[class2, 0], singlePositionX[class2, 1],\n",
    "                np.cos(singlePhaseTheta[class2]), np.sin(singlePhaseTheta[class2]), color='#414CC7', \n",
    "                # alpha = (1 - alphaRate) + (np.abs(omegaTheta[class2]) - 1) / 2 * alphaRate,\n",
    "                scale=scale, width=width\n",
    "            )\n",
    "        strengthLambda = np.round(sa.model.strengthLambda, 3)\n",
    "        distanceD0 = np.round(sa.model.distanceD0, 2)\n",
    "        ax.set_title(f\"$\\lambda={strengthLambda},\\ d_0={distanceD0}$\", fontweight=\"bold\")\n",
    "        ax.set_xlim(0, 10)\n",
    "        ax.set_ylim(0, 10)\n",
    "        ax.set_xticks([])\n",
    "        ax.set_yticks([])\n",
    "        plt.tight_layout()\n",
    "\n",
    "    fig, _ = plt.subplots(1, 1, figsize=(4, 4))\n",
    "    TNum = sa.TNum\n",
    "    startIdx = TNum - tailCounts * step if tailCounts else 0\n",
    "    frames = np.arange(startIdx, TNum, step)\n",
    "    pbar = tqdm(total=len(frames))\n",
    "    ani = ma.FuncAnimation(fig, plot_frame, frames=frames, interval=40, repeat=False)\n",
    "    ani.save(f\"{mp4Path}/{fileName}.mp4\", dpi=200)\n",
    "    plt.close()\n",
    "    pbar.close()\n",
    "\n",
    "def draw_mp4s(sas: List[StateAnalysis], fileName: str, mp4Path: str = \"./normalMP4\", step: int = 1, tailCounts: int = None):\n",
    "    \n",
    "    def plot_frame(i):\n",
    "        pbar.update(1)\n",
    "        fig.clear()\n",
    "        for idx in range(len(sas)):\n",
    "            ax = plt.subplot(rowNum, 3, idx + 1)\n",
    "            sa = sas[idx]\n",
    "            singlePositionX, singlePhaseTheta, _ = sa.get_state(index=i)\n",
    "            omegaTheta = sa.model.omegaTheta\n",
    "            if isinstance(sa.model, SingleDistribution):\n",
    "                ax.quiver(\n",
    "                    singlePositionX[:, 0], singlePositionX[:, 1],\n",
    "                    np.cos(singlePhaseTheta[:]), np.sin(singlePhaseTheta[:]), \n",
    "                    color=[cmap(i) for i in (omegaTheta - 1) / 2], alpha=1,\n",
    "                    scale=23, width=0.005\n",
    "                )\n",
    "            elif isinstance(sa.model, SpatialGroups):\n",
    "                ax.quiver(\n",
    "                    singlePositionX[class1, 0], singlePositionX[class1, 1],\n",
    "                    np.cos(singlePhaseTheta[class1]), np.sin(singlePhaseTheta[class1]), color='red', \n",
    "                    # alpha = (1 - alphaRate) + (np.abs(omegaTheta[class1]) - 1) / 2 * alphaRate,\n",
    "                    scale=scale, width=width\n",
    "                )\n",
    "                ax.quiver(\n",
    "                    singlePositionX[class2, 0], singlePositionX[class2, 1],\n",
    "                    np.cos(singlePhaseTheta[class2]), np.sin(singlePhaseTheta[class2]), color='#414CC7', \n",
    "                    # alpha = (1 - alphaRate) + (np.abs(omegaTheta[class2]) - 1) / 2 * alphaRate,\n",
    "                    scale=scale, width=width\n",
    "                )\n",
    "            strengthLambda = np.round(sa.model.strengthLambda, 3)\n",
    "            distanceD0 = np.round(sa.model.distanceD0, 2)\n",
    "            ax.set_title(f\"({chr(65 + idx).lower()})  $\\lambda={strengthLambda},\\ d_0={distanceD0}$\", fontweight=\"bold\")\n",
    "            ax.set_xlim(0, 10)\n",
    "            ax.set_ylim(0, 10)\n",
    "            ax.set_xticks([])\n",
    "            ax.set_yticks([])\n",
    "        plt.tight_layout()\n",
    "\n",
    "    rowNum = len(sas) // 3\n",
    "    fig, axs = plt.subplots(rowNum, 3, figsize=(10, rowNum * 4))\n",
    "    axs = axs.flatten()\n",
    "    TNum = sas[0].TNum\n",
    "    startIdx = TNum - tailCounts * step if tailCounts else 0\n",
    "    frames = np.arange(startIdx, TNum, step)\n",
    "    pbar = tqdm(total=len(frames))\n",
    "    ani = ma.FuncAnimation(fig, plot_frame, frames=frames, interval=40, repeat=False)\n",
    "    ani.save(f\"{mp4Path}/{fileName}.mp4\", dpi=200)\n",
    "    plt.close()\n",
    "    pbar.close()\n",
    "\n",
    "def draw_time_vary(sa: StateAnalysis, fileName: str = None, mp4Path: str = \"./normalMP4\", step: int = 1, earlyStop: int = None):\n",
    "    if fileName is None:\n",
    "        fileName = f\"tv_{sa.model}\"\n",
    "\n",
    "    def plot_frame(i):\n",
    "        pbar.update(1)\n",
    "        frameIdx = np.where(frames == i)[0][0]\n",
    "\n",
    "        fig.clear()\n",
    "        ax1 = plt.subplot2grid((3, 2), (0, 0), rowspan=2)\n",
    "        ax2 = plt.subplot2grid((3, 2), (0, 1), rowspan=2)\n",
    "        ax3 = plt.subplot2grid((3, 2), (2, 0), colspan=2)\n",
    "        singlePositionX, singlePhaseTheta, _ = sa.get_state(index=i)\n",
    "        omegaTheta = sa.model.omegaTheta\n",
    "\n",
    "        # plot the snapshot\n",
    "        if isinstance(sa.model, SingleDistribution):\n",
    "            ax1.quiver(\n",
    "                singlePositionX[:, 0], singlePositionX[:, 1],\n",
    "                np.cos(singlePhaseTheta[:]), np.sin(singlePhaseTheta[:]), \n",
    "                color=[cmap(i) for i in (omegaTheta - 1) / 2], alpha=1,\n",
    "                scale=23, width=0.005\n",
    "            )\n",
    "        elif isinstance(sa.model, SpatialGroups):\n",
    "            ax1.quiver(\n",
    "                singlePositionX[class1, 0], singlePositionX[class1, 1],\n",
    "                np.cos(singlePhaseTheta[class1]), np.sin(singlePhaseTheta[class1]), color='red', \n",
    "                scale=scale, width=width\n",
    "            )\n",
    "            ax1.quiver(\n",
    "                singlePositionX[class2, 0], singlePositionX[class2, 1],\n",
    "                np.cos(singlePhaseTheta[class2]), np.sin(singlePhaseTheta[class2]), color='#414CC7', \n",
    "                scale=scale, width=width\n",
    "            )\n",
    "\n",
    "        for classNum in classes:\n",
    "            classIdxs = classes[classNum]\n",
    "            meanPosition = centersPool[frameIdx][classIdxs[0]]\n",
    "            text = ax1.text(meanPosition[0], meanPosition[1], rf\"$C_{classNum}$\", fontsize=16, color=\"black\")\n",
    "            text.set_path_effects([pe.withStroke(linewidth=1, foreground=\"white\")])\n",
    "        \n",
    "        strengthLambda = np.round(sa.model.strengthLambda, 3)\n",
    "        distanceD0 = np.round(sa.model.distanceD0, 2)\n",
    "        ax1.set_title(f\"$\\lambda={strengthLambda},\\ d_0={distanceD0}$\", fontweight=\"bold\")\n",
    "        ax1.set_xlim(0, 10)\n",
    "        ax1.set_ylim(0, 10)\n",
    "        ax1.set_xlabel(r\"$x$\", fontsize=16)\n",
    "        ax1.set_ylabel(r\"$y$\", fontsize=16, rotation=0)\n",
    "        ax1.set_xticks([])\n",
    "        ax1.set_yticks([])\n",
    "\n",
    "        # plot the adjacency matrix\n",
    "        soredPosition = singlePositionX[idxs]\n",
    "        deltaX = SpatialGroups._delta_x(soredPosition, soredPosition[:, np.newaxis], 10, 5)\n",
    "        distances = SpatialGroups.distance_x(deltaX)\n",
    "        Aij = distances <= sa.model.distanceD0\n",
    "        for idx, row in enumerate(Aij):\n",
    "            isTrue = np.where(row)[0]\n",
    "            ax2.scatter(np.ones_like(isTrue) * idx, isTrue, color=colors[idx], s=2, alpha=0.6)\n",
    "\n",
    "        for classNum in classes:\n",
    "            classIdxs = classes[classNum]\n",
    "            AijPosition = np.sum([len(classes[cNum]) for cNum in classes if cNum < classNum]) + len(classIdxs) / 2\n",
    "            text = ax2.text(AijPosition, AijPosition, rf\"$C_{classNum}$\", fontsize=18, color=\"black\", fontweight=\"bold\")\n",
    "            text.set_path_effects([pe.withStroke(linewidth=1, foreground=\"white\")])\n",
    "\n",
    "        ax2.tick_params(direction='in', length=3)\n",
    "        ax2.spines['right'].set_color('none')\n",
    "        ax2.spines['top'].set_color('none')\n",
    "        ax2.set_xlabel(r\"$i$\", fontsize=16, labelpad=-10)\n",
    "        ax2.set_ylabel(r\"$j$\", fontsize=16, rotation=0, labelpad=-10)\n",
    "        ax2.grid(True)\n",
    "        ax2.set_xlim(-0.5, len(idxs) + 0.5)\n",
    "        ax2.set_ylim(-0.5, len(idxs) + 0.5)\n",
    "\n",
    "        # plot the order parameter\n",
    "        ax3.plot(frames * sa.model.dt, opR, label=r\"$R$ (left)\")\n",
    "        ax3.plot(frames * sa.model.dt, opRc, label=r\"$R_c$ (left)\")\n",
    "        ax3.scatter(i * sa.model.dt, opR[frameIdx], facecolor=\"white\", edgecolors=\"C0\", s=40, linewidths=2, zorder=10)\n",
    "        ax3.scatter(i * sa.model.dt, opRc[frameIdx], facecolor=\"white\", edgecolors=\"C1\", s=40, linewidths=2, zorder=10)\n",
    "        ax3.set_ylim(-0.25, 1 + 0.05)\n",
    "        ax3.set_ylabel(\"Order Parameter\", fontsize=16)\n",
    "        ax3.legend(loc=\"lower left\", ncol=2, frameon=False)\n",
    "        ax3.tick_params(direction='in', length=3)\n",
    "        ax3 = ax3.twinx()\n",
    "        ax3.plot(frames * sa.model.dt, opDeltaOmega, color=\"C2\", label=r\"$\\Delta \\Omega$ (right)\")\n",
    "        ax3.scatter(i * sa.model.dt, opDeltaOmega[frameIdx], facecolor=\"white\", edgecolors=\"C2\", s=40, linewidths=2, zorder=10)\n",
    "        ax3.set_ylim(-np.max(opDeltaOmega) * 0.15, np.max(opDeltaOmega) * 1.1)\n",
    "        ax3.set_xlabel(r\"$t$\", fontsize=16)\n",
    "        ax3.legend(loc=\"lower right\", ncol=1, frameon=False)\n",
    "        ax3.grid(True)\n",
    "        ax3.tick_params(direction='in', length=3)\n",
    "\n",
    "        # plt.tight_layout()\n",
    "        # assert 0\n",
    "\n",
    "    lastPositionX, lastPhaseTheta, lastPointTheta = sa.get_state(index=-1)\n",
    "    centers = StateAnalysis._calc_centers(\n",
    "    lastPositionX, lastPhaseTheta, lastPointTheta, 3, 0.01\n",
    "    )\n",
    "    classes = StateAnalysis._calc_classes(\n",
    "        centers, 0.3, StateAnalysis._adj_distance(centers, centers[:, np.newaxis], 10, 5)\n",
    "    )\n",
    "    classes = {i + 1: classes[i] for i in range(len(classes))}\n",
    "    clusterColors = [cmap(i / len(classes) * 1) for i in range(len(classes))]\n",
    "    colors = np.concatenate([[clusterColors[i - 1]] * len(classes[i]) for i in range(1, len(classes) + 1)])\n",
    "    idxs = np.concatenate(list(classes.values()))\n",
    "\n",
    "    fig, _ = plt.subplots(1, 1, figsize=(11, 8))\n",
    "    # fig.subplots_adjust(left=0, bottom=0, right=1, top=1, wspace=None, hspace=None)\n",
    "\n",
    "    if earlyStop is None:\n",
    "        TNum = sa.TNum - 1000\n",
    "    else:\n",
    "        TNum = min(earlyStop, sa.TNum - 1000)\n",
    "    startIdx = 1\n",
    "    frames = np.arange(startIdx, TNum, step)\n",
    "\n",
    "    # calc order parameters\n",
    "    selectedPositionX = sa.totalPositionX[frames]\n",
    "    selectedPhaseTheta = sa.totalPhaseTheta[frames]\n",
    "    selectedPointTheta = sa.totalPointTheta[frames]\n",
    "    opR = np.abs(np.mean(np.cos(selectedPhaseTheta) + 1j * np.sin(selectedPhaseTheta), axis=1))\n",
    "    opRc = np.zeros_like(opR)\n",
    "    opDeltaOmega = np.zeros_like(opR)\n",
    "    centersPool = list()\n",
    "    for idx in tqdm(range(len(frames)), desc=\"Calculating order parameters\"):\n",
    "        lastPositionX = selectedPositionX[idx]\n",
    "        lastPhaseTheta = selectedPhaseTheta[idx]\n",
    "        lastPointTheta = selectedPointTheta[idx]\n",
    "        centers = StateAnalysis._calc_centers(lastPositionX, lastPhaseTheta, lastPointTheta, \n",
    "                                              sa.model.speedV, sa.model.dt)\n",
    "        modCenters = np.mod(centers, 10)\n",
    "        centersPool.append(modCenters)\n",
    "        tvClasses = StateAnalysis._calc_classes(\n",
    "            modCenters, 0.3, \n",
    "            StateAnalysis._adj_distance(modCenters, modCenters[:, np.newaxis], 10, 5)\n",
    "        )\n",
    "        counts = 0\n",
    "        sumRc = 0\n",
    "        sumDeltaOmega = 0\n",
    "        for classOcsis in tvClasses:\n",
    "            if len(classOcsis) <= 5:\n",
    "                continue\n",
    "            sumRc += StateAnalysis._clac_phase_sync_op(lastPhaseTheta[classOcsis])\n",
    "            counts += 1\n",
    "\n",
    "            meanPointTheta = selectedPointTheta[idx: idx + 1000, classOcsis].mean(axis=0) / sa.model.dt\n",
    "            sumDeltaOmega += ((meanPointTheta - meanPointTheta[:, np.newaxis])**2).sum() / len(classOcsis) ** 2\n",
    "\n",
    "        opRc[idx] = sumRc / counts\n",
    "        opDeltaOmega[idx] = sumDeltaOmega / counts\n",
    "\n",
    "    # draw\n",
    "    pbar = tqdm(total=len(frames) + 1)\n",
    "    ani = ma.FuncAnimation(fig, plot_frame, frames=frames, interval=20 * step, repeat=False)\n",
    "    ani.save(f\"{mp4Path}/{fileName}.mp4\", dpi=200)\n",
    "    plt.close()\n",
    "    pbar.close()"
   ]
  },
  {
   "cell_type": "code",
   "execution_count": 41,
   "metadata": {},
   "outputs": [
    {
     "data": {
      "application/vnd.jupyter.widget-view+json": {
       "model_id": "2b01455d92764bb591535431ca9e259f",
       "version_major": 2,
       "version_minor": 0
      },
      "text/plain": [
       "  0%|          | 0/750 [00:00<?, ?it/s]"
      ]
     },
     "metadata": {},
     "output_type": "display_data"
    }
   ],
   "source": [
    "models = [\n",
    "    SpatialGroups(strengthLambda=0.015, distanceD0=0.25, randomSeed=10, savePath=\"./data\"),\n",
    "    SpatialGroups(strengthLambda=0.015, distanceD0=0.35, randomSeed=10, savePath=\"./data\"),\n",
    "    SpatialGroups(strengthLambda=0.015, distanceD0=0.9, randomSeed=10, savePath=\"./data\")\n",
    "]\n",
    "sas = [StateAnalysis(model) for model in models]\n",
    "draw_mp4s(sas, \"V#8~10_chiral_CS\", tailCounts=750, step=1)"
   ]
  },
  {
   "cell_type": "code",
   "execution_count": 42,
   "metadata": {},
   "outputs": [
    {
     "data": {
      "application/vnd.jupyter.widget-view+json": {
       "model_id": "57a71938d648456aa8f0ef86a83d6e99",
       "version_major": 2,
       "version_minor": 0
      },
      "text/plain": [
       "  0%|          | 0/750 [00:00<?, ?it/s]"
      ]
     },
     "metadata": {},
     "output_type": "display_data"
    }
   ],
   "source": [
    "models = [\n",
    "    SpatialGroups(strengthLambda=0.1, distanceD0=0.45, randomSeed=10, savePath=\"./data\"),\n",
    "    SpatialGroups(strengthLambda=0.1, distanceD0=0.75, randomSeed=10, savePath=\"./data\"),\n",
    "    SpatialGroups(strengthLambda=0.1, distanceD0=1.5, randomSeed=10, savePath=\"./data\")\n",
    "]\n",
    "sas = [StateAnalysis(model) for model in models]\n",
    "draw_mp4s(sas, \"V#11~13_chiral_CLS\", tailCounts=750, step=1)"
   ]
  },
  {
   "cell_type": "code",
   "execution_count": 44,
   "metadata": {},
   "outputs": [
    {
     "data": {
      "application/vnd.jupyter.widget-view+json": {
       "model_id": "1732bd41865745c382c13bf27cd89607",
       "version_major": 2,
       "version_minor": 0
      },
      "text/plain": [
       "  0%|          | 0/750 [00:00<?, ?it/s]"
      ]
     },
     "metadata": {},
     "output_type": "display_data"
    }
   ],
   "source": [
    "models = [\n",
    "    SingleDistribution(strengthLambda=0.01, distanceD0=0.35, randomSeed=10, savePath=\"./data\"),\n",
    "    SingleDistribution(strengthLambda=0.01, distanceD0=0.65, randomSeed=10, savePath=\"./data\"),\n",
    "    SingleDistribution(strengthLambda=0.01, distanceD0=1.05, randomSeed=10, savePath=\"./data\")\n",
    "]\n",
    "sas = [StateAnalysis(model) for model in models]\n",
    "draw_mp4s(sas, \"V#2~4_monoChiral_CS\", tailCounts=750, step=1)"
   ]
  },
  {
   "cell_type": "code",
   "execution_count": 43,
   "metadata": {},
   "outputs": [
    {
     "data": {
      "application/vnd.jupyter.widget-view+json": {
       "model_id": "d4221b7da0bd48ebbdaf650fc8c5c94e",
       "version_major": 2,
       "version_minor": 0
      },
      "text/plain": [
       "  0%|          | 0/750 [00:00<?, ?it/s]"
      ]
     },
     "metadata": {},
     "output_type": "display_data"
    }
   ],
   "source": [
    "models = [\n",
    "    SingleDistribution(strengthLambda=0.15, distanceD0=0.5, randomSeed=10, savePath=\"./data\"),\n",
    "    SingleDistribution(strengthLambda=0.15, distanceD0=0.85, randomSeed=10, savePath=\"./data\"),\n",
    "    SingleDistribution(strengthLambda=0.15, distanceD0=0.95, randomSeed=10, savePath=\"./data\")\n",
    "]\n",
    "sas = [StateAnalysis(model) for model in models]\n",
    "draw_mp4s(sas, \"V#5~7_monoChiral_CLS\", tailCounts=750, step=1)"
   ]
  },
  {
   "cell_type": "code",
   "execution_count": 10,
   "metadata": {},
   "outputs": [
    {
     "data": {
      "application/vnd.jupyter.widget-view+json": {
       "model_id": "96bef2f6daab417995d288802bf0f288",
       "version_major": 2,
       "version_minor": 0
      },
      "text/plain": [
       "  0%|          | 0/750 [00:00<?, ?it/s]"
      ]
     },
     "metadata": {},
     "output_type": "display_data"
    }
   ],
   "source": [
    "model = SingleDistribution(strengthLambda=0, distanceD0=0, randomSeed=10, savePath=\"./data\", overWrite=True, tqdm=True, boundaryLength=10)\n",
    "sa = StateAnalysis(model)\n",
    "draw_mp4(sa, \"V#1_monoChiral_lambda0\", tailCounts=750, step=1)"
   ]
  },
  {
   "cell_type": "code",
   "execution_count": 3,
   "metadata": {},
   "outputs": [
    {
     "data": {
      "application/vnd.jupyter.widget-view+json": {
       "model_id": "d897412b7c424d7a85470684a1fd67a1",
       "version_major": 2,
       "version_minor": 0
      },
      "text/plain": [
       "Calculating order parameters:   0%|          | 0/3667 [00:00<?, ?it/s]"
      ]
     },
     "metadata": {},
     "output_type": "display_data"
    },
    {
     "data": {
      "application/vnd.jupyter.widget-view+json": {
       "model_id": "5d6701f748e349e79715151b2db17119",
       "version_major": 2,
       "version_minor": 0
      },
      "text/plain": [
       "  0%|          | 0/3668 [00:00<?, ?it/s]"
      ]
     },
     "metadata": {},
     "output_type": "display_data"
    }
   ],
   "source": [
    "model = SpatialGroups(strengthLambda=0.02, distanceD0=0.4, dt=0.01, tqdm=False, \n",
    "                      savePath=\"./data\", uniform=True, randomSeed=80, overWrite=False)\n",
    "sa = StateAnalysis(model)\n",
    "draw_time_vary(sa, step=3, earlyStop=None)"
   ]
  }
 ],
 "metadata": {
  "kernelspec": {
   "display_name": "py37",
   "language": "python",
   "name": "python3"
  },
  "language_info": {
   "codemirror_mode": {
    "name": "ipython",
    "version": 3
   },
   "file_extension": ".py",
   "mimetype": "text/x-python",
   "name": "python",
   "nbconvert_exporter": "python",
   "pygments_lexer": "ipython3",
   "version": "3.7.16"
  }
 },
 "nbformat": 4,
 "nbformat_minor": 2
}
